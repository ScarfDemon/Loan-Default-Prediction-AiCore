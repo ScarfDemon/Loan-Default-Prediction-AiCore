{
  "cells": [
    {
      "cell_type": "markdown",
      "id": "67511341",
      "metadata": {
        "id": "67511341"
      },
      "source": [
        "# Python for Data Science\n",
        "\n",
        "[![Open In Colab](https://colab.research.google.com/assets/colab-badge.svg)](https://colab.research.google.com/github/AI-Core/Python-for-Data-Science/blob/main/Part%204%20-%20Model%20Training%20%26%20Evaluation.ipynb)\n"
      ]
    },
    {
      "cell_type": "code",
      "execution_count": 9,
      "id": "f77141fd",
      "metadata": {
        "id": "f77141fd"
      },
      "outputs": [],
      "source": [
        "import pandas as pd\n",
        "df = pd.read_csv(\n",
        "    \"https://raw.githubusercontent.com/AI-Core/Python-for-Data-Science/main/part-3-output.csv\")\n"
      ]
    },
    {
      "cell_type": "code",
      "execution_count": 10,
      "id": "b1368617",
      "metadata": {
        "id": "b1368617"
      },
      "outputs": [],
      "source": [
        "# dropping non significant columns from X and the target column\n",
        "X = df\n",
        "y = df.pop('m13') #pop not drop lol\n"
      ]
    },
    {
      "cell_type": "code",
      "source": [
        "X = X.drop(labels=[\n",
        "    \"Unnamed: 0\",\n",
        "    \"Unnamed: 0.1\",\n",
        "    \"financial_institution\",\n",
        "    \"origination_date\",\n",
        "    \"first_payment_date\",\n",
        "    \"loan_id\" #remove cos it isn't a real number\n",
        "    #leave source and loan_purpose can do one_hot encoding\n",
        "],axis=1)"
      ],
      "metadata": {
        "id": "Xhq5nHSY_lCL"
      },
      "id": "Xhq5nHSY_lCL",
      "execution_count": 11,
      "outputs": []
    },
    {
      "cell_type": "code",
      "execution_count": 12,
      "id": "efa6658b",
      "metadata": {
        "id": "efa6658b"
      },
      "outputs": [],
      "source": [
        "# apply one-hot encoding to nominal variables\n",
        "X = pd.get_dummies(data=X, columns=['source', 'loan_purpose'])"
      ]
    },
    {
      "cell_type": "code",
      "execution_count": 13,
      "id": "f6f7d1f8",
      "metadata": {
        "id": "f6f7d1f8"
      },
      "outputs": [],
      "source": [
        "# apply normalisation using sklearn\n",
        "from sklearn.preprocessing import MinMaxScaler\n",
        "normalisation = MinMaxScaler()\n"
      ]
    },
    {
      "cell_type": "markdown",
      "id": "f3f961b1",
      "metadata": {
        "id": "f3f961b1"
      },
      "source": [
        "## The Problem\n",
        "\n",
        "__Loan default prediction__ is one of the most critical and crucial problems faced by financial institutions and organizations as it has a noteworthy effect on the profitability of these institutions. In recent years, there is a tremendous increase in the volume of _non–performing_ loans which results in a jeopardizing effect on the growth of these institutions. \n",
        "\n",
        "Therefore, to maintain a healthy portfolio, banks put stringent monitoring and evaluation measures in place to ensure the timely repayment of loans by borrowers. Despite these measures, a major proportion of loans become delinquent. _Delinquency_ occurs when a borrower misses a payment against his/her loan.\n",
        "\n",
        "Given the information like mortgage details, borrowers-related details, and payment details, your objective is to build a system that can predict the defaulter status of loans for the next month given the defaulter status for the previous 12 months (in the number of months).\n",
        "\n"
      ]
    },
    {
      "cell_type": "markdown",
      "id": "f73320e4",
      "metadata": {
        "id": "f73320e4"
      },
      "source": [
        "# Part 4 - Model Training and Evaluation\n",
        "\n",
        "Now, it's time to do some machine learning.\n",
        "You have your final training and testing data, and you're ready to start training different some machine learning models to model the relationships between the features and labels."
      ]
    },
    {
      "cell_type": "markdown",
      "id": "94ce3a3d",
      "metadata": {
        "id": "94ce3a3d"
      },
      "source": [
        "## Train Test Split\n",
        "\n",
        "The final thing required before training a machine learning model on our data is to split the data into different sets.\n",
        "training and testing for model training and evaluation. \n",
        "\n",
        "You can learn more about why we perform train and test splitting [here](https://scikit-learn.org/stable/modules/generated/sklearn.model_selection.train_test_split.html)\n"
      ]
    },
    {
      "cell_type": "code",
      "execution_count": 14,
      "id": "c0269597",
      "metadata": {
        "id": "c0269597"
      },
      "outputs": [],
      "source": [
        "from sklearn.model_selection import train_test_split\n",
        "\n",
        "X_train, X_test, y_train, y_test = train_test_split(X, y, test_size=0.3, random_state=42, stratify=y) # stratify to have same ratio in train and test split for target column"
      ]
    },
    {
      "cell_type": "markdown",
      "id": "b1dadc4d",
      "metadata": {
        "id": "b1dadc4d"
      },
      "source": [
        "Alright, so we are getting closer to training our mdodel. This notebook was just focussed around preparing the data before we actually train the model. We did Feature Selection, Feature Encoding and then Feature Scaling. It is important to notice the flow of the preprocessing steps. It should most likely happen in this manner if not always."
      ]
    },
    {
      "cell_type": "markdown",
      "id": "c3f66a7f",
      "metadata": {
        "id": "c3f66a7f"
      },
      "source": [
        "### Model Training \n",
        "\n",
        "We will be training different models and see which works best. \n",
        "1. Logistic Regression : For this model, how to prepare the data w.r.t outliers, feature scaling and feature encoding ? \n",
        "2. Decision Tree : How to prepare the data for this model ? Is it robust to outliers ? \n",
        "3. Random Forest : [Read More Here](https://towardsdatascience.com/understanding-random-forest-58381e0602d2)\n",
        "4. SVM : [Read More Here](https://towardsdatascience.com/https-medium-com-pupalerushikesh-svm-f4b42800e989#:~:text=SVM%20or%20Support%20Vector%20Machine,separates%20the%20data%20into%20classes.)\n",
        "5. Boosting Models: GradientBoostingClassifier(), ExtraTreesClassifier()"
      ]
    },
    {
      "cell_type": "code",
      "execution_count": 15,
      "id": "76cab4ee",
      "metadata": {
        "id": "76cab4ee"
      },
      "outputs": [],
      "source": [
        "from sklearn.ensemble import RandomForestClassifier\n",
        "from sklearn.linear_model import LogisticRegression\n",
        "from sklearn.svm import SVC\n",
        "from sklearn.neighbors import KNeighborsClassifier\n",
        "from sklearn.ensemble import GradientBoostingClassifier, ExtraTreesClassifier\n",
        "from sklearn.metrics import classification_report, accuracy_score, precision_score, recall_score"
      ]
    },
    {
      "cell_type": "code",
      "execution_count": 16,
      "id": "8ba64e99",
      "metadata": {
        "id": "8ba64e99",
        "outputId": "662709d7-e21d-4596-f246-92d134ab8216",
        "colab": {
          "base_uri": "https://localhost:8080/"
        }
      },
      "outputs": [
        {
          "output_type": "execute_result",
          "data": {
            "text/plain": [
              "LogisticRegression()"
            ]
          },
          "metadata": {},
          "execution_count": 16
        }
      ],
      "source": [
        "# Train Logistic Model\n",
        "model = LogisticRegression()\n",
        "model.fit(X_train, y_train)"
      ]
    },
    {
      "cell_type": "markdown",
      "id": "b8dcf348",
      "metadata": {
        "id": "b8dcf348"
      },
      "source": [
        "### Model Evaluation\n",
        "\n",
        "These metrics help us understand which model works better over others. You can learn more about the metrics here: [Link](https://neptune.ai/blog/performance-metrics-in-machine-learning-complete-guide#:~:text=They're%20used%20to%20train,t%20need%20to%20be%20differentiable.)\n",
        "1. Accuracy : Is Accuracy as a metric relavant here ?\n",
        "2. Precision : [Read More](https://developers.google.com/machine-learning/crash-course/classification/precision-and-recall)\n",
        "3. Recall : [Read More](https://developers.google.com/machine-learning/crash-course/classification/precision-and-recall)\n",
        "4. Confusion Matrix"
      ]
    },
    {
      "cell_type": "code",
      "execution_count": 17,
      "id": "75464824",
      "metadata": {
        "id": "75464824",
        "outputId": "8d15841e-4e10-4104-9b0a-46495a48161c",
        "colab": {
          "base_uri": "https://localhost:8080/"
        }
      },
      "outputs": [
        {
          "output_type": "stream",
          "name": "stdout",
          "text": [
            "The accuracy is 0.9945143316675283\n"
          ]
        }
      ],
      "source": [
        "from sklearn.metrics import accuracy_score, confusion_matrix, classification_report, plot_confusion_matrix, precision_score, recall_score\n",
        "pred = model.predict(X_test)\n",
        "print (f\"The accuracy is {accuracy_score(y_test, pred)}\")"
      ]
    },
    {
      "cell_type": "code",
      "execution_count": 18,
      "id": "96c42733",
      "metadata": {
        "id": "96c42733",
        "outputId": "eb889182-1be8-41a3-9cdf-4a14cdbb9fc1",
        "colab": {
          "base_uri": "https://localhost:8080/",
          "height": 351
        }
      },
      "outputs": [
        {
          "output_type": "stream",
          "name": "stderr",
          "text": [
            "/usr/local/lib/python3.8/dist-packages/sklearn/utils/deprecation.py:87: FutureWarning: Function plot_confusion_matrix is deprecated; Function `plot_confusion_matrix` is deprecated in 1.0 and will be removed in 1.2. Use one of the class methods: ConfusionMatrixDisplay.from_predictions or ConfusionMatrixDisplay.from_estimator.\n",
            "  warnings.warn(msg, category=FutureWarning)\n"
          ]
        },
        {
          "output_type": "execute_result",
          "data": {
            "text/plain": [
              "<sklearn.metrics._plot.confusion_matrix.ConfusionMatrixDisplay at 0x7fce175aa400>"
            ]
          },
          "metadata": {},
          "execution_count": 18
        },
        {
          "output_type": "display_data",
          "data": {
            "text/plain": [
              "<Figure size 432x288 with 2 Axes>"
            ],
            "image/png": "[encoded data removed]"
          },
          "metadata": {
            "needs_background": "light"
          }
        }
      ],
      "source": [
        "plot_confusion_matrix(model,X_test, y_test, cmap='Accent')"
      ]
    },
    {
      "cell_type": "code",
      "execution_count": 19,
      "id": "f75457bd",
      "metadata": {
        "id": "f75457bd",
        "outputId": "88039717-e105-46f4-b545-aa4bc24c26b4",
        "colab": {
          "base_uri": "https://localhost:8080/"
        }
      },
      "outputs": [
        {
          "output_type": "stream",
          "name": "stdout",
          "text": [
            "Classification report:\n",
            "              precision    recall  f1-score   support\n",
            "\n",
            "           0       1.00      0.99      1.00     34818\n",
            "           1       0.00      0.00      0.00         0\n",
            "\n",
            "    accuracy                           0.99     34818\n",
            "   macro avg       0.50      0.50      0.50     34818\n",
            "weighted avg       1.00      0.99      1.00     34818\n",
            "\n"
          ]
        },
        {
          "output_type": "stream",
          "name": "stderr",
          "text": [
            "/usr/local/lib/python3.8/dist-packages/sklearn/metrics/_classification.py:1318: UndefinedMetricWarning: Recall and F-score are ill-defined and being set to 0.0 in labels with no true samples. Use `zero_division` parameter to control this behavior.\n",
            "  _warn_prf(average, modifier, msg_start, len(result))\n",
            "/usr/local/lib/python3.8/dist-packages/sklearn/metrics/_classification.py:1318: UndefinedMetricWarning: Recall and F-score are ill-defined and being set to 0.0 in labels with no true samples. Use `zero_division` parameter to control this behavior.\n",
            "  _warn_prf(average, modifier, msg_start, len(result))\n",
            "/usr/local/lib/python3.8/dist-packages/sklearn/metrics/_classification.py:1318: UndefinedMetricWarning: Recall and F-score are ill-defined and being set to 0.0 in labels with no true samples. Use `zero_division` parameter to control this behavior.\n",
            "  _warn_prf(average, modifier, msg_start, len(result))\n"
          ]
        }
      ],
      "source": [
        "print(\"Classification report:\")\n",
        "print(classification_report(pred, y_test))"
      ]
    },
    {
      "cell_type": "markdown",
      "id": "8c41e406",
      "metadata": {
        "id": "8c41e406"
      },
      "source": [
        "Implement a __evaluation()__ function to evaluate the metrics mentioned above "
      ]
    },
    {
      "cell_type": "code",
      "execution_count": 20,
      "id": "0c248054",
      "metadata": {
        "id": "0c248054"
      },
      "outputs": [],
      "source": [
        "def evaluate(model, verbose=False):\n",
        "    \"\"\"\n",
        "    Set verbose = True to print accuracy, classification report and plot\n",
        "    confusion matrix\n",
        "    \"\"\"\n",
        "    metrics = {}\n",
        "    pred = model.predict(X_test)\n",
        "    metrics['accuracy'] = accuracy_score(y_test, pred)\n",
        "    verbose and print (f\"The accuracy is {metrics['accuracy']}\")\n",
        "    verbose and plot_confusion_matrix(model,X_test, y_test)\n",
        "    metrics['precision'] = precision_score(y_test, pred)\n",
        "    metrics['recall'] = recall_score(y_test, pred)\n",
        "    verbose and print (f\"The classification report looks like : \\n {classification_report(pred, y_test)}\")\n",
        "    return metrics\n",
        "    "
      ]
    },
    {
      "cell_type": "code",
      "execution_count": 21,
      "id": "f6083f58",
      "metadata": {
        "id": "f6083f58",
        "outputId": "3906cfe9-e7fb-43bf-b0f1-ea2c81aae833",
        "colab": {
          "base_uri": "https://localhost:8080/",
          "height": 577
        }
      },
      "outputs": [
        {
          "output_type": "stream",
          "name": "stdout",
          "text": [
            "The accuracy is 0.9958929289447986\n"
          ]
        },
        {
          "output_type": "stream",
          "name": "stderr",
          "text": [
            "/usr/local/lib/python3.8/dist-packages/sklearn/utils/deprecation.py:87: FutureWarning: Function plot_confusion_matrix is deprecated; Function `plot_confusion_matrix` is deprecated in 1.0 and will be removed in 1.2. Use one of the class methods: ConfusionMatrixDisplay.from_predictions or ConfusionMatrixDisplay.from_estimator.\n",
            "  warnings.warn(msg, category=FutureWarning)\n"
          ]
        },
        {
          "output_type": "stream",
          "name": "stdout",
          "text": [
            "The classification report looks like : \n",
            "               precision    recall  f1-score   support\n",
            "\n",
            "           0       1.00      1.00      1.00     34726\n",
            "           1       0.37      0.76      0.49        92\n",
            "\n",
            "    accuracy                           1.00     34818\n",
            "   macro avg       0.68      0.88      0.75     34818\n",
            "weighted avg       1.00      1.00      1.00     34818\n",
            "\n"
          ]
        },
        {
          "output_type": "execute_result",
          "data": {
            "text/plain": [
              "{'accuracy': 0.9958929289447986,\n",
              " 'precision': 0.7608695652173914,\n",
              " 'recall': 0.36649214659685864}"
            ]
          },
          "metadata": {},
          "execution_count": 21
        },
        {
          "output_type": "display_data",
          "data": {
            "text/plain": [
              "<Figure size 432x288 with 2 Axes>"
            ],
            "image/png": "[encoded data removed]"
          },
          "metadata": {
            "needs_background": "light"
          }
        }
      ],
      "source": [
        "from sklearn.ensemble import RandomForestClassifier\n",
        "random_forest = RandomForestClassifier()\n",
        "random_forest.fit(X_train, y_train)\n",
        "evaluate(random_forest, verbose = True)\n"
      ]
    },
    {
      "cell_type": "code",
      "execution_count": 22,
      "id": "70b8e026",
      "metadata": {
        "id": "70b8e026"
      },
      "outputs": [],
      "source": [
        "output = pd.DataFrame(columns=['model', 'accuracy', 'precision', 'recall'])\n",
        "\n",
        "def train_model(model):\n",
        "    global output\n",
        "    model.fit( X_train, y_train) #X_train and y_train are used globally\n",
        "    metrics = evaluate(model)\n",
        "    metrics[\"model\"] = f\"{model}\"\n",
        "    output = output.append(metrics, ignore_index=True)\n",
        "    "
      ]
    },
    {
      "cell_type": "code",
      "execution_count": 23,
      "id": "e06af131",
      "metadata": {
        "id": "e06af131",
        "outputId": "87dca475-876f-48db-ed16-2b76d143828c",
        "colab": {
          "base_uri": "https://localhost:8080/"
        }
      },
      "outputs": [
        {
          "output_type": "stream",
          "name": "stdout",
          "text": [
            "Training model: RandomForestClassifier()\n",
            "Training model: GradientBoostingClassifier()\n",
            "Training model: ExtraTreesClassifier()\n",
            "Training model: KNeighborsClassifier()\n"
          ]
        },
        {
          "output_type": "stream",
          "name": "stderr",
          "text": [
            "/usr/local/lib/python3.8/dist-packages/sklearn/metrics/_classification.py:1318: UndefinedMetricWarning: Precision is ill-defined and being set to 0.0 due to no predicted samples. Use `zero_division` parameter to control this behavior.\n",
            "  _warn_prf(average, modifier, msg_start, len(result))\n"
          ]
        }
      ],
      "source": [
        "for model in [RandomForestClassifier(), GradientBoostingClassifier(), ExtraTreesClassifier(), KNeighborsClassifier()]:\n",
        "    print (f\"Training model: {model}\" )\n",
        "    train_model(model)\n",
        "    "
      ]
    },
    {
      "cell_type": "code",
      "execution_count": 24,
      "id": "e17583e5",
      "metadata": {
        "id": "e17583e5",
        "outputId": "9d15f8ab-5c82-4410-c617-a80e0f286dc9",
        "colab": {
          "base_uri": "https://localhost:8080/",
          "height": 175
        }
      },
      "outputs": [
        {
          "output_type": "execute_result",
          "data": {
            "text/plain": [
              "                          model  accuracy  precision    recall\n",
              "0      RandomForestClassifier()  0.995835   0.755556  0.356021\n",
              "1  GradientBoostingClassifier()  0.995807   0.731959  0.371728\n",
              "2        ExtraTreesClassifier()  0.995634   0.705263  0.350785\n",
              "3        KNeighborsClassifier()  0.994514   0.000000  0.000000"
            ],
            "text/html": [
              "\n",
              "  <div id=\"df-046d98a0-12b9-4094-b891-c7eaaf61f1b2\">\n",
              "    <div class=\"colab-df-container\">\n",
              "      <div>\n",
              "<style scoped>\n",
              "    .dataframe tbody tr th:only-of-type {\n",
              "        vertical-align: middle;\n",
              "    }\n",
              "\n",
              "    .dataframe tbody tr th {\n",
              "        vertical-align: top;\n",
              "    }\n",
              "\n",
              "    .dataframe thead th {\n",
              "        text-align: right;\n",
              "    }\n",
              "</style>\n",
              "<table border=\"1\" class=\"dataframe\">\n",
              "  <thead>\n",
              "    <tr style=\"text-align: right;\">\n",
              "      <th></th>\n",
              "      <th>model</th>\n",
              "      <th>accuracy</th>\n",
              "      <th>precision</th>\n",
              "      <th>recall</th>\n",
              "    </tr>\n",
              "  </thead>\n",
              "  <tbody>\n",
              "    <tr>\n",
              "      <th>0</th>\n",
              "      <td>RandomForestClassifier()</td>\n",
              "      <td>0.995835</td>\n",
              "      <td>0.755556</td>\n",
              "      <td>0.356021</td>\n",
              "    </tr>\n",
              "    <tr>\n",
              "      <th>1</th>\n",
              "      <td>GradientBoostingClassifier()</td>\n",
              "      <td>0.995807</td>\n",
              "      <td>0.731959</td>\n",
              "      <td>0.371728</td>\n",
              "    </tr>\n",
              "    <tr>\n",
              "      <th>2</th>\n",
              "      <td>ExtraTreesClassifier()</td>\n",
              "      <td>0.995634</td>\n",
              "      <td>0.705263</td>\n",
              "      <td>0.350785</td>\n",
              "    </tr>\n",
              "    <tr>\n",
              "      <th>3</th>\n",
              "      <td>KNeighborsClassifier()</td>\n",
              "      <td>0.994514</td>\n",
              "      <td>0.000000</td>\n",
              "      <td>0.000000</td>\n",
              "    </tr>\n",
              "  </tbody>\n",
              "</table>\n",
              "</div>\n",
              "      <button class=\"colab-df-convert\" onclick=\"convertToInteractive('df-046d98a0-12b9-4094-b891-c7eaaf61f1b2')\"\n",
              "              title=\"Convert this dataframe to an interactive table.\"\n",
              "              style=\"display:none;\">\n",
              "        \n",
              "  <svg xmlns=\"http://www.w3.org/2000/svg\" height=\"24px\"viewBox=\"0 0 24 24\"\n",
              "       width=\"24px\">\n",
              "    <path d=\"M0 0h24v24H0V0z\" fill=\"none\"/>\n",
              "    <path d=\"M18.56 5.44l.94 2.06.94-2.06 2.06-.94-2.06-.94-.94-2.06-.94 2.06-2.06.94zm-11 1L8.5 8.5l.94-2.06 2.06-.94-2.06-.94L8.5 2.5l-.94 2.06-2.06.94zm10 10l.94 2.06.94-2.06 2.06-.94-2.06-.94-.94-2.06-.94 2.06-2.06.94z\"/><path d=\"M17.41 7.96l-1.37-1.37c-.4-.4-.92-.59-1.43-.59-.52 0-1.04.2-1.43.59L10.3 9.45l-7.72 7.72c-.78.78-.78 2.05 0 2.83L4 21.41c.39.39.9.59 1.41.59.51 0 1.02-.2 1.41-.59l7.78-7.78 2.81-2.81c.8-.78.8-2.07 0-2.86zM5.41 20L4 18.59l7.72-7.72 1.47 1.35L5.41 20z\"/>\n",
              "  </svg>\n",
              "      </button>\n",
              "      \n",
              "  <style>\n",
              "    .colab-df-container {\n",
              "      display:flex;\n",
              "      flex-wrap:wrap;\n",
              "      gap: 12px;\n",
              "    }\n",
              "\n",
              "    .colab-df-convert {\n",
              "      background-color: #E8F0FE;\n",
              "      border: none;\n",
              "      border-radius: 50%;\n",
              "      cursor: pointer;\n",
              "      display: none;\n",
              "      fill: #1967D2;\n",
              "      height: 32px;\n",
              "      padding: 0 0 0 0;\n",
              "      width: 32px;\n",
              "    }\n",
              "\n",
              "    .colab-df-convert:hover {\n",
              "      background-color: #E2EBFA;\n",
              "      box-shadow: 0px 1px 2px rgba(60, 64, 67, 0.3), 0px 1px 3px 1px rgba(60, 64, 67, 0.15);\n",
              "      fill: #174EA6;\n",
              "    }\n",
              "\n",
              "    [theme=dark] .colab-df-convert {\n",
              "      background-color: #3B4455;\n",
              "      fill: #D2E3FC;\n",
              "    }\n",
              "\n",
              "    [theme=dark] .colab-df-convert:hover {\n",
              "      background-color: #434B5C;\n",
              "      box-shadow: 0px 1px 3px 1px rgba(0, 0, 0, 0.15);\n",
              "      filter: drop-shadow(0px 1px 2px rgba(0, 0, 0, 0.3));\n",
              "      fill: #FFFFFF;\n",
              "    }\n",
              "  </style>\n",
              "\n",
              "      <script>\n",
              "        const buttonEl =\n",
              "          document.querySelector('#df-046d98a0-12b9-4094-b891-c7eaaf61f1b2 button.colab-df-convert');\n",
              "        buttonEl.style.display =\n",
              "          google.colab.kernel.accessAllowed ? 'block' : 'none';\n",
              "\n",
              "        async function convertToInteractive(key) {\n",
              "          const element = document.querySelector('#df-046d98a0-12b9-4094-b891-c7eaaf61f1b2');\n",
              "          const dataTable =\n",
              "            await google.colab.kernel.invokeFunction('convertToInteractive',\n",
              "                                                     [key], {});\n",
              "          if (!dataTable) return;\n",
              "\n",
              "          const docLinkHtml = 'Like what you see? Visit the ' +\n",
              "            '<a target=\"_blank\" href=https://colab.research.google.com/notebooks/data_table.ipynb>data table notebook</a>'\n",
              "            + ' to learn more about interactive tables.';\n",
              "          element.innerHTML = '';\n",
              "          dataTable['output_type'] = 'display_data';\n",
              "          await google.colab.output.renderOutput(dataTable, element);\n",
              "          const docLink = document.createElement('div');\n",
              "          docLink.innerHTML = docLinkHtml;\n",
              "          element.appendChild(docLink);\n",
              "        }\n",
              "      </script>\n",
              "    </div>\n",
              "  </div>\n",
              "  "
            ]
          },
          "metadata": {},
          "execution_count": 24
        }
      ],
      "source": [
        "output"
      ]
    },
    {
      "cell_type": "markdown",
      "id": "b824bf4a",
      "metadata": {
        "id": "b824bf4a"
      },
      "source": [
        "If we consider __Recall__ `GradientBoostinClassifier` is working better than other models in default configuration. Lets improve the function to automatically determine the best model"
      ]
    },
    {
      "cell_type": "code",
      "execution_count": 25,
      "id": "fb3b5edc",
      "metadata": {
        "id": "fb3b5edc"
      },
      "outputs": [],
      "source": [
        "output = pd.DataFrame(columns=['model','accuracy','precision','recall'])\n",
        "\n",
        "def train_model(model):\n",
        "    global output\n",
        "    model.fit( X_train, y_train) #X_train and y_train are used globally\n",
        "    metrics = evaluate(model)\n",
        "    metrics[\"model\"] = f\"{model}\"\n",
        "    output = output.append(metrics, ignore_index=True)\n",
        "\n",
        "def select_best(model_list):\n",
        "    for model in model_list:\n",
        "        print (\"Training Model: \", model)\n",
        "        train_model(model)\n",
        "    output.recall = output.recall.astype('float64')\n",
        "    print (f\"The best model is \\n { output.loc[[output.recall.argmax()]]}\")"
      ]
    },
    {
      "cell_type": "code",
      "execution_count": 26,
      "id": "5326b374",
      "metadata": {
        "id": "5326b374",
        "outputId": "70b3b9f3-2e51-4c82-f933-a5932205452a",
        "colab": {
          "base_uri": "https://localhost:8080/"
        }
      },
      "outputs": [
        {
          "output_type": "stream",
          "name": "stdout",
          "text": [
            "Training Model:  RandomForestClassifier()\n",
            "Training Model:  GradientBoostingClassifier()\n",
            "Training Model:  ExtraTreesClassifier()\n",
            "Training Model:  KNeighborsClassifier()\n"
          ]
        },
        {
          "output_type": "stream",
          "name": "stderr",
          "text": [
            "/usr/local/lib/python3.8/dist-packages/sklearn/metrics/_classification.py:1318: UndefinedMetricWarning: Precision is ill-defined and being set to 0.0 due to no predicted samples. Use `zero_division` parameter to control this behavior.\n",
            "  _warn_prf(average, modifier, msg_start, len(result))\n"
          ]
        },
        {
          "output_type": "stream",
          "name": "stdout",
          "text": [
            "Training Model:  LogisticRegression()\n"
          ]
        },
        {
          "output_type": "stream",
          "name": "stderr",
          "text": [
            "/usr/local/lib/python3.8/dist-packages/sklearn/metrics/_classification.py:1318: UndefinedMetricWarning: Precision is ill-defined and being set to 0.0 due to no predicted samples. Use `zero_division` parameter to control this behavior.\n",
            "  _warn_prf(average, modifier, msg_start, len(result))\n"
          ]
        },
        {
          "output_type": "stream",
          "name": "stdout",
          "text": [
            "Training Model:  SVC()\n",
            "The best model is \n",
            "                           model  accuracy  precision    recall\n",
            "1  GradientBoostingClassifier()  0.995807   0.731959  0.371728\n"
          ]
        },
        {
          "output_type": "stream",
          "name": "stderr",
          "text": [
            "/usr/local/lib/python3.8/dist-packages/sklearn/metrics/_classification.py:1318: UndefinedMetricWarning: Precision is ill-defined and being set to 0.0 due to no predicted samples. Use `zero_division` parameter to control this behavior.\n",
            "  _warn_prf(average, modifier, msg_start, len(result))\n"
          ]
        }
      ],
      "source": [
        "select_best([\n",
        "    RandomForestClassifier(),\n",
        "    GradientBoostingClassifier(), \n",
        "    ExtraTreesClassifier(), \n",
        "    KNeighborsClassifier(),\n",
        "    LogisticRegression(),\n",
        "    SVC() \n",
        "])"
      ]
    },
    {
      "cell_type": "code",
      "execution_count": 30,
      "id": "da7822d8",
      "metadata": {
        "id": "da7822d8",
        "outputId": "b568f000-c3eb-4886-bf18-866ef73bc197",
        "colab": {
          "base_uri": "https://localhost:8080/",
          "height": 238
        }
      },
      "outputs": [
        {
          "output_type": "execute_result",
          "data": {
            "text/plain": [
              "                          model  accuracy  precision    recall\n",
              "0      RandomForestClassifier()  0.995807   0.758621  0.345550\n",
              "1  GradientBoostingClassifier()  0.995807   0.731959  0.371728\n",
              "2        ExtraTreesClassifier()  0.995577   0.679612  0.366492\n",
              "3        KNeighborsClassifier()  0.994514   0.000000  0.000000\n",
              "4          LogisticRegression()  0.994514   0.000000  0.000000\n",
              "5                         SVC()  0.994514   0.000000  0.000000"
            ],
            "text/html": [
              "\n",
              "  <div id=\"df-19cbb543-98ef-4014-856c-135e628db928\">\n",
              "    <div class=\"colab-df-container\">\n",
              "      <div>\n",
              "<style scoped>\n",
              "    .dataframe tbody tr th:only-of-type {\n",
              "        vertical-align: middle;\n",
              "    }\n",
              "\n",
              "    .dataframe tbody tr th {\n",
              "        vertical-align: top;\n",
              "    }\n",
              "\n",
              "    .dataframe thead th {\n",
              "        text-align: right;\n",
              "    }\n",
              "</style>\n",
              "<table border=\"1\" class=\"dataframe\">\n",
              "  <thead>\n",
              "    <tr style=\"text-align: right;\">\n",
              "      <th></th>\n",
              "      <th>model</th>\n",
              "      <th>accuracy</th>\n",
              "      <th>precision</th>\n",
              "      <th>recall</th>\n",
              "    </tr>\n",
              "  </thead>\n",
              "  <tbody>\n",
              "    <tr>\n",
              "      <th>0</th>\n",
              "      <td>RandomForestClassifier()</td>\n",
              "      <td>0.995807</td>\n",
              "      <td>0.758621</td>\n",
              "      <td>0.345550</td>\n",
              "    </tr>\n",
              "    <tr>\n",
              "      <th>1</th>\n",
              "      <td>GradientBoostingClassifier()</td>\n",
              "      <td>0.995807</td>\n",
              "      <td>0.731959</td>\n",
              "      <td>0.371728</td>\n",
              "    </tr>\n",
              "    <tr>\n",
              "      <th>2</th>\n",
              "      <td>ExtraTreesClassifier()</td>\n",
              "      <td>0.995577</td>\n",
              "      <td>0.679612</td>\n",
              "      <td>0.366492</td>\n",
              "    </tr>\n",
              "    <tr>\n",
              "      <th>3</th>\n",
              "      <td>KNeighborsClassifier()</td>\n",
              "      <td>0.994514</td>\n",
              "      <td>0.000000</td>\n",
              "      <td>0.000000</td>\n",
              "    </tr>\n",
              "    <tr>\n",
              "      <th>4</th>\n",
              "      <td>LogisticRegression()</td>\n",
              "      <td>0.994514</td>\n",
              "      <td>0.000000</td>\n",
              "      <td>0.000000</td>\n",
              "    </tr>\n",
              "    <tr>\n",
              "      <th>5</th>\n",
              "      <td>SVC()</td>\n",
              "      <td>0.994514</td>\n",
              "      <td>0.000000</td>\n",
              "      <td>0.000000</td>\n",
              "    </tr>\n",
              "  </tbody>\n",
              "</table>\n",
              "</div>\n",
              "      <button class=\"colab-df-convert\" onclick=\"convertToInteractive('df-19cbb543-98ef-4014-856c-135e628db928')\"\n",
              "              title=\"Convert this dataframe to an interactive table.\"\n",
              "              style=\"display:none;\">\n",
              "        \n",
              "  <svg xmlns=\"http://www.w3.org/2000/svg\" height=\"24px\"viewBox=\"0 0 24 24\"\n",
              "       width=\"24px\">\n",
              "    <path d=\"M0 0h24v24H0V0z\" fill=\"none\"/>\n",
              "    <path d=\"M18.56 5.44l.94 2.06.94-2.06 2.06-.94-2.06-.94-.94-2.06-.94 2.06-2.06.94zm-11 1L8.5 8.5l.94-2.06 2.06-.94-2.06-.94L8.5 2.5l-.94 2.06-2.06.94zm10 10l.94 2.06.94-2.06 2.06-.94-2.06-.94-.94-2.06-.94 2.06-2.06.94z\"/><path d=\"M17.41 7.96l-1.37-1.37c-.4-.4-.92-.59-1.43-.59-.52 0-1.04.2-1.43.59L10.3 9.45l-7.72 7.72c-.78.78-.78 2.05 0 2.83L4 21.41c.39.39.9.59 1.41.59.51 0 1.02-.2 1.41-.59l7.78-7.78 2.81-2.81c.8-.78.8-2.07 0-2.86zM5.41 20L4 18.59l7.72-7.72 1.47 1.35L5.41 20z\"/>\n",
              "  </svg>\n",
              "      </button>\n",
              "      \n",
              "  <style>\n",
              "    .colab-df-container {\n",
              "      display:flex;\n",
              "      flex-wrap:wrap;\n",
              "      gap: 12px;\n",
              "    }\n",
              "\n",
              "    .colab-df-convert {\n",
              "      background-color: #E8F0FE;\n",
              "      border: none;\n",
              "      border-radius: 50%;\n",
              "      cursor: pointer;\n",
              "      display: none;\n",
              "      fill: #1967D2;\n",
              "      height: 32px;\n",
              "      padding: 0 0 0 0;\n",
              "      width: 32px;\n",
              "    }\n",
              "\n",
              "    .colab-df-convert:hover {\n",
              "      background-color: #E2EBFA;\n",
              "      box-shadow: 0px 1px 2px rgba(60, 64, 67, 0.3), 0px 1px 3px 1px rgba(60, 64, 67, 0.15);\n",
              "      fill: #174EA6;\n",
              "    }\n",
              "\n",
              "    [theme=dark] .colab-df-convert {\n",
              "      background-color: #3B4455;\n",
              "      fill: #D2E3FC;\n",
              "    }\n",
              "\n",
              "    [theme=dark] .colab-df-convert:hover {\n",
              "      background-color: #434B5C;\n",
              "      box-shadow: 0px 1px 3px 1px rgba(0, 0, 0, 0.15);\n",
              "      filter: drop-shadow(0px 1px 2px rgba(0, 0, 0, 0.3));\n",
              "      fill: #FFFFFF;\n",
              "    }\n",
              "  </style>\n",
              "\n",
              "      <script>\n",
              "        const buttonEl =\n",
              "          document.querySelector('#df-19cbb543-98ef-4014-856c-135e628db928 button.colab-df-convert');\n",
              "        buttonEl.style.display =\n",
              "          google.colab.kernel.accessAllowed ? 'block' : 'none';\n",
              "\n",
              "        async function convertToInteractive(key) {\n",
              "          const element = document.querySelector('#df-19cbb543-98ef-4014-856c-135e628db928');\n",
              "          const dataTable =\n",
              "            await google.colab.kernel.invokeFunction('convertToInteractive',\n",
              "                                                     [key], {});\n",
              "          if (!dataTable) return;\n",
              "\n",
              "          const docLinkHtml = 'Like what you see? Visit the ' +\n",
              "            '<a target=\"_blank\" href=https://colab.research.google.com/notebooks/data_table.ipynb>data table notebook</a>'\n",
              "            + ' to learn more about interactive tables.';\n",
              "          element.innerHTML = '';\n",
              "          dataTable['output_type'] = 'display_data';\n",
              "          await google.colab.output.renderOutput(dataTable, element);\n",
              "          const docLink = document.createElement('div');\n",
              "          docLink.innerHTML = docLinkHtml;\n",
              "          element.appendChild(docLink);\n",
              "        }\n",
              "      </script>\n",
              "    </div>\n",
              "  </div>\n",
              "  "
            ]
          },
          "metadata": {},
          "execution_count": 30
        }
      ],
      "source": [
        "output"
      ]
    },
    {
      "cell_type": "code",
      "source": [
        "from sklearn.metrics import precision_recall_fscore_support\n",
        "models_classification_reports = pd.DataFrame(columns=['model', 'accuracy','precision','recall'])\n",
        "\n",
        "model_list = [\n",
        "    RandomForestClassifier(),\n",
        "    GradientBoostingClassifier(),\n",
        "    ExtraTreesClassifier(),\n",
        "    KNeighborsClassifier(),\n",
        "    LogisticRegression(), \n",
        "    SVC()\n",
        "]\n",
        "\n",
        "best_score = 0\n",
        "best_prsf = []\n",
        "\n",
        "for model in model_list:\n",
        "  model.fit(X_train, y_train)\n",
        "  #model.fit(X_val, y_val)\n",
        "  pred = model.predict(X_test)\n",
        "  stat_values = list(precision_recall_fscore_support(y_test, pred, zero_division=0)) #change to list cos cant append tuple\n",
        "  s = models_classification_reports.shape[0]\n",
        "  models_classification_reports.loc[s, 'model'] = f\"{model}\"\n",
        "  models_classification_reports.loc[s, 'accuracy'] = accuracy_score(y_test, pred) #accuracy score val in accuracy col\n",
        "  models_classification_reports.loc[s, 'precision'] = stat_values[0][1] #precision val in precision col\n",
        "  #precision gets smaller as more false positives\n",
        "  models_classification_reports.loc[s, 'recall'] = stat_values[1][1] #recall val in recall col\n",
        "  #recall gets smaller as more false negatives\n",
        "  #models_classification_reports.loc[s, 'f1-score'] = stat_values[2][1] #f1-score val in f1-score col\n",
        "  if model.score(X_test, pred) > best_score:\n",
        "    best_score = model.score(X_test, pred)\n",
        "    best_model = f\"{model}\"\n",
        "    best_prfs = stat_values\n",
        "\n",
        "print(models_classification_reports)\n",
        "print(\"the best model is: \", best_model)\n",
        "print(\"with score: \", best_score)\n",
        "print(\"and precision, recall, fscore and support values: \", best_prsf)"
      ],
      "metadata": {
        "colab": {
          "base_uri": "https://localhost:8080/"
        },
        "id": "_5IBUeBOAfdN",
        "outputId": "db8069d7-4a66-4f99-f476-d2d86f654786"
      },
      "id": "_5IBUeBOAfdN",
      "execution_count": 35,
      "outputs": [
        {
          "output_type": "stream",
          "name": "stdout",
          "text": [
            "                          model  accuracy precision    recall\n",
            "0      RandomForestClassifier()  0.995778  0.744444  0.350785\n",
            "1  GradientBoostingClassifier()  0.995807  0.731959  0.371728\n",
            "2        ExtraTreesClassifier()  0.995778   0.73913  0.356021\n",
            "3        KNeighborsClassifier()  0.994514       0.0       0.0\n",
            "4          LogisticRegression()  0.994514       0.0       0.0\n",
            "5                         SVC()  0.994514       0.0       0.0\n",
            "the best model is:  RandomForestClassifier()\n",
            "with score:  1.0\n",
            "and precision, recall, fscore and support values:  []\n"
          ]
        }
      ]
    },
    {
      "cell_type": "code",
      "execution_count": 28,
      "id": "5e8117cc",
      "metadata": {
        "id": "5e8117cc",
        "outputId": "bec0911b-6b8b-44ab-bda3-24dc0a90c18e",
        "colab": {
          "base_uri": "https://localhost:8080/"
        }
      },
      "outputs": [
        {
          "output_type": "execute_result",
          "data": {
            "text/plain": [
              "ExtraTreesClassifier()"
            ]
          },
          "metadata": {},
          "execution_count": 28
        }
      ],
      "source": [
        "model = ExtraTreesClassifier()\n",
        "model.fit(X_train, y_train)"
      ]
    },
    {
      "cell_type": "markdown",
      "id": "f2ccc6c2",
      "metadata": {
        "id": "f2ccc6c2"
      },
      "source": [
        "### Saving the Model\n",
        "\n",
        "So you're happy with your model? Now you need to save it.\n",
        "\n",
        "Once it's saved, we can share it with our team, load it back in to make predictions in some other system, or load it back in to compare with new models that you train, for example."
      ]
    },
    {
      "cell_type": "code",
      "execution_count": 29,
      "id": "4caa50f2",
      "metadata": {
        "id": "4caa50f2",
        "outputId": "4107580e-c5ab-4ec8-8899-4bc361711d2a",
        "colab": {
          "base_uri": "https://localhost:8080/"
        }
      },
      "outputs": [
        {
          "output_type": "execute_result",
          "data": {
            "text/plain": [
              "['finalized_model.pkl']"
            ]
          },
          "metadata": {},
          "execution_count": 29
        }
      ],
      "source": [
        "import joblib \n",
        "filename = 'finalized_model.pkl'\n",
        "joblib.dump(model, filename)\n"
      ]
    },
    {
      "cell_type": "markdown",
      "id": "72c99f5c",
      "metadata": {
        "id": "72c99f5c"
      },
      "source": [
        "## Key Takeaways\n",
        "- The process for model training and evaluation goes as follows\n",
        "    - Train a model on the training set\n",
        "    - Evaluate the model on the validation set\n",
        "    - Repeat for as many variations of model as you can\n",
        "    - Select the best model based on its performance on the validation set\n",
        "    - Report the performance of the model using the test set, but do not use this to make any decisions about the model!\n",
        "- Never use the test set to choose between models. The moment you pick a model based on test set performance, you're showing it the answers!\n",
        "- Both the validatoin and test set are a measure of how well the model will generalise to unseen examples\n",
        "- The validation set is used to compare different models and choose between them once they've been trained\n",
        "- The difference \n",
        "- This demo barely scratches the surface. Going forward, you could explore:\n",
        "    - the settings of the different models we've experimented with, which are known as hyperparameters\n",
        "    - other machine learning models, such as deep learning models like neural networks\n",
        "    - other machine learning libraries, like Apache Spark's MLLib\n",
        "    - other preprocessing techniques\n"
      ]
    }
  ],
  "metadata": {
    "kernelspec": {
      "display_name": "Python 3.9.5 ('base')",
      "language": "python",
      "name": "python3"
    },
    "language_info": {
      "codemirror_mode": {
        "name": "ipython",
        "version": 3
      },
      "file_extension": ".py",
      "mimetype": "text/x-python",
      "name": "python",
      "nbconvert_exporter": "python",
      "pygments_lexer": "ipython3",
      "version": "3.9.5"
    },
    "vscode": {
      "interpreter": {
        "hash": "ffef1fb3247e42ae9cf3614f3519d4998b3b95643236a5d32641564963f5a3b8"
      }
    },
    "colab": {
      "provenance": []
    }
  },
  "nbformat": 4,
  "nbformat_minor": 5
}