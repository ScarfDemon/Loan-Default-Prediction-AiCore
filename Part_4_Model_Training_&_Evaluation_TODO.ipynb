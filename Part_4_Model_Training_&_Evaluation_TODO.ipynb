{
  "cells": [
    {
      "cell_type": "markdown",
      "id": "67511341",
      "metadata": {
        "id": "67511341"
      },
      "source": [
        "# Python for Data Science\n",
        "\n",
        "[![Open In Colab](https://colab.research.google.com/assets/colab-badge.svg)](https://colab.research.google.com/github/AI-Core/Python-for-Data-Science/blob/main/Part%204%20-%20Model%20Training%20%26%20Evaluation%20TODO.ipynb)\n"
      ]
    },
    {
      "cell_type": "code",
      "execution_count": 84,
      "id": "f77141fd",
      "metadata": {
        "id": "f77141fd"
      },
      "outputs": [],
      "source": [
        "import pandas as pd\n",
        "df = pd.read_csv(\n",
        "    \"https://raw.githubusercontent.com/AI-Core/Python-for-Data-Science/main/part-3-output.csv\")\n",
        "\n",
        "# https://www.youtube.com/watch?v=VbpthuZlUlo"
      ]
    },
    {
      "cell_type": "code",
      "execution_count": 85,
      "id": "b1368617",
      "metadata": {
        "id": "b1368617",
        "outputId": "acc0a64c-84a3-4876-9b82-4a5dbb9ada77",
        "colab": {
          "base_uri": "https://localhost:8080/"
        }
      },
      "outputs": [
        {
          "output_type": "execute_result",
          "data": {
            "text/plain": [
              "0         1\n",
              "1         1\n",
              "2         1\n",
              "3         1\n",
              "4         1\n",
              "         ..\n",
              "116053    0\n",
              "116054    0\n",
              "116055    0\n",
              "116056    0\n",
              "116057    0\n",
              "Name: m13, Length: 116058, dtype: int64"
            ]
          },
          "metadata": {},
          "execution_count": 85
        }
      ],
      "source": [
        "# dropping non significant columns from X and the target column\n",
        "X = df #convention- X is the features of the data\n",
        "y = df.pop('m13') #y is usually the target; y is labels\n",
        "\n",
        "y"
      ]
    },
    {
      "cell_type": "code",
      "source": [
        "X\n",
        "y\n",
        "\n",
        "# if X == df:\n",
        "#   print(\"they are the same\") #doesnt work see error\n",
        "\n",
        "if X is df:\n",
        "  print(\"they are the same\")\n",
        "\n",
        "df.head()"
      ],
      "metadata": {
        "id": "Krj4pB1X1d_z",
        "outputId": "7ae7b636-e6fc-43d1-c340-ac7c6ebe4a18",
        "colab": {
          "base_uri": "https://localhost:8080/",
          "height": 334
        }
      },
      "id": "Krj4pB1X1d_z",
      "execution_count": 86,
      "outputs": [
        {
          "output_type": "stream",
          "name": "stdout",
          "text": [
            "they are the same\n"
          ]
        },
        {
          "output_type": "execute_result",
          "data": {
            "text/plain": [
              "   Unnamed: 0  Unnamed: 0.1       loan_id source       financial_institution  \\\n",
              "0           0             0  268055008619      Z  Turner, Baldwin and Rhodes   \n",
              "1           1             1  672831657627      Y  Swanson, Newton and Miller   \n",
              "2           2             2  742515242108      Z              Thornton-Davis   \n",
              "3           3             3  601385667462      X                       OTHER   \n",
              "4           4             4  273870029961      X                       OTHER   \n",
              "\n",
              "   interest_rate  unpaid_principal_bal  loan_term origination_date  \\\n",
              "0          4.250                214000         12       2012-03-01   \n",
              "1          4.875                144000         12       2012-01-01   \n",
              "2          3.250                366000          6       2012-01-01   \n",
              "3          4.750                135000         12       2012-02-01   \n",
              "4          4.750                124000         12       2012-02-01   \n",
              "\n",
              "  first_payment_date  ...  m5  m6  m7  m8 m9  m10  m11  m12  \\\n",
              "0         2012-05-01  ...   0   0   1   0  0    0    0    0   \n",
              "1         2012-03-01  ...   0   0   0   0  0    0    1    0   \n",
              "2         2012-03-01  ...   0   0   0   0  0    0    0    0   \n",
              "3         2012-04-01  ...   0   0   0   0  1    1    1    1   \n",
              "4         2012-04-01  ...   4   5   6   7  8    9   10   11   \n",
              "\n",
              "   months_until_first_payment  has_insurance  \n",
              "0                           2              1  \n",
              "1                           2              0  \n",
              "2                           2              0  \n",
              "3                           2              0  \n",
              "4                           2              0  \n",
              "\n",
              "[5 rows x 30 columns]"
            ],
            "text/html": [
              "\n",
              "  <div id=\"df-6afe7fdf-766e-41fe-a2d3-132bb2f04d1c\">\n",
              "    <div class=\"colab-df-container\">\n",
              "      <div>\n",
              "<style scoped>\n",
              "    .dataframe tbody tr th:only-of-type {\n",
              "        vertical-align: middle;\n",
              "    }\n",
              "\n",
              "    .dataframe tbody tr th {\n",
              "        vertical-align: top;\n",
              "    }\n",
              "\n",
              "    .dataframe thead th {\n",
              "        text-align: right;\n",
              "    }\n",
              "</style>\n",
              "<table border=\"1\" class=\"dataframe\">\n",
              "  <thead>\n",
              "    <tr style=\"text-align: right;\">\n",
              "      <th></th>\n",
              "      <th>Unnamed: 0</th>\n",
              "      <th>Unnamed: 0.1</th>\n",
              "      <th>loan_id</th>\n",
              "      <th>source</th>\n",
              "      <th>financial_institution</th>\n",
              "      <th>interest_rate</th>\n",
              "      <th>unpaid_principal_bal</th>\n",
              "      <th>loan_term</th>\n",
              "      <th>origination_date</th>\n",
              "      <th>first_payment_date</th>\n",
              "      <th>...</th>\n",
              "      <th>m5</th>\n",
              "      <th>m6</th>\n",
              "      <th>m7</th>\n",
              "      <th>m8</th>\n",
              "      <th>m9</th>\n",
              "      <th>m10</th>\n",
              "      <th>m11</th>\n",
              "      <th>m12</th>\n",
              "      <th>months_until_first_payment</th>\n",
              "      <th>has_insurance</th>\n",
              "    </tr>\n",
              "  </thead>\n",
              "  <tbody>\n",
              "    <tr>\n",
              "      <th>0</th>\n",
              "      <td>0</td>\n",
              "      <td>0</td>\n",
              "      <td>268055008619</td>\n",
              "      <td>Z</td>\n",
              "      <td>Turner, Baldwin and Rhodes</td>\n",
              "      <td>4.250</td>\n",
              "      <td>214000</td>\n",
              "      <td>12</td>\n",
              "      <td>2012-03-01</td>\n",
              "      <td>2012-05-01</td>\n",
              "      <td>...</td>\n",
              "      <td>0</td>\n",
              "      <td>0</td>\n",
              "      <td>1</td>\n",
              "      <td>0</td>\n",
              "      <td>0</td>\n",
              "      <td>0</td>\n",
              "      <td>0</td>\n",
              "      <td>0</td>\n",
              "      <td>2</td>\n",
              "      <td>1</td>\n",
              "    </tr>\n",
              "    <tr>\n",
              "      <th>1</th>\n",
              "      <td>1</td>\n",
              "      <td>1</td>\n",
              "      <td>672831657627</td>\n",
              "      <td>Y</td>\n",
              "      <td>Swanson, Newton and Miller</td>\n",
              "      <td>4.875</td>\n",
              "      <td>144000</td>\n",
              "      <td>12</td>\n",
              "      <td>2012-01-01</td>\n",
              "      <td>2012-03-01</td>\n",
              "      <td>...</td>\n",
              "      <td>0</td>\n",
              "      <td>0</td>\n",
              "      <td>0</td>\n",
              "      <td>0</td>\n",
              "      <td>0</td>\n",
              "      <td>0</td>\n",
              "      <td>1</td>\n",
              "      <td>0</td>\n",
              "      <td>2</td>\n",
              "      <td>0</td>\n",
              "    </tr>\n",
              "    <tr>\n",
              "      <th>2</th>\n",
              "      <td>2</td>\n",
              "      <td>2</td>\n",
              "      <td>742515242108</td>\n",
              "      <td>Z</td>\n",
              "      <td>Thornton-Davis</td>\n",
              "      <td>3.250</td>\n",
              "      <td>366000</td>\n",
              "      <td>6</td>\n",
              "      <td>2012-01-01</td>\n",
              "      <td>2012-03-01</td>\n",
              "      <td>...</td>\n",
              "      <td>0</td>\n",
              "      <td>0</td>\n",
              "      <td>0</td>\n",
              "      <td>0</td>\n",
              "      <td>0</td>\n",
              "      <td>0</td>\n",
              "      <td>0</td>\n",
              "      <td>0</td>\n",
              "      <td>2</td>\n",
              "      <td>0</td>\n",
              "    </tr>\n",
              "    <tr>\n",
              "      <th>3</th>\n",
              "      <td>3</td>\n",
              "      <td>3</td>\n",
              "      <td>601385667462</td>\n",
              "      <td>X</td>\n",
              "      <td>OTHER</td>\n",
              "      <td>4.750</td>\n",
              "      <td>135000</td>\n",
              "      <td>12</td>\n",
              "      <td>2012-02-01</td>\n",
              "      <td>2012-04-01</td>\n",
              "      <td>...</td>\n",
              "      <td>0</td>\n",
              "      <td>0</td>\n",
              "      <td>0</td>\n",
              "      <td>0</td>\n",
              "      <td>1</td>\n",
              "      <td>1</td>\n",
              "      <td>1</td>\n",
              "      <td>1</td>\n",
              "      <td>2</td>\n",
              "      <td>0</td>\n",
              "    </tr>\n",
              "    <tr>\n",
              "      <th>4</th>\n",
              "      <td>4</td>\n",
              "      <td>4</td>\n",
              "      <td>273870029961</td>\n",
              "      <td>X</td>\n",
              "      <td>OTHER</td>\n",
              "      <td>4.750</td>\n",
              "      <td>124000</td>\n",
              "      <td>12</td>\n",
              "      <td>2012-02-01</td>\n",
              "      <td>2012-04-01</td>\n",
              "      <td>...</td>\n",
              "      <td>4</td>\n",
              "      <td>5</td>\n",
              "      <td>6</td>\n",
              "      <td>7</td>\n",
              "      <td>8</td>\n",
              "      <td>9</td>\n",
              "      <td>10</td>\n",
              "      <td>11</td>\n",
              "      <td>2</td>\n",
              "      <td>0</td>\n",
              "    </tr>\n",
              "  </tbody>\n",
              "</table>\n",
              "<p>5 rows × 30 columns</p>\n",
              "</div>\n",
              "      <button class=\"colab-df-convert\" onclick=\"convertToInteractive('df-6afe7fdf-766e-41fe-a2d3-132bb2f04d1c')\"\n",
              "              title=\"Convert this dataframe to an interactive table.\"\n",
              "              style=\"display:none;\">\n",
              "        \n",
              "  <svg xmlns=\"http://www.w3.org/2000/svg\" height=\"24px\"viewBox=\"0 0 24 24\"\n",
              "       width=\"24px\">\n",
              "    <path d=\"M0 0h24v24H0V0z\" fill=\"none\"/>\n",
              "    <path d=\"M18.56 5.44l.94 2.06.94-2.06 2.06-.94-2.06-.94-.94-2.06-.94 2.06-2.06.94zm-11 1L8.5 8.5l.94-2.06 2.06-.94-2.06-.94L8.5 2.5l-.94 2.06-2.06.94zm10 10l.94 2.06.94-2.06 2.06-.94-2.06-.94-.94-2.06-.94 2.06-2.06.94z\"/><path d=\"M17.41 7.96l-1.37-1.37c-.4-.4-.92-.59-1.43-.59-.52 0-1.04.2-1.43.59L10.3 9.45l-7.72 7.72c-.78.78-.78 2.05 0 2.83L4 21.41c.39.39.9.59 1.41.59.51 0 1.02-.2 1.41-.59l7.78-7.78 2.81-2.81c.8-.78.8-2.07 0-2.86zM5.41 20L4 18.59l7.72-7.72 1.47 1.35L5.41 20z\"/>\n",
              "  </svg>\n",
              "      </button>\n",
              "      \n",
              "  <style>\n",
              "    .colab-df-container {\n",
              "      display:flex;\n",
              "      flex-wrap:wrap;\n",
              "      gap: 12px;\n",
              "    }\n",
              "\n",
              "    .colab-df-convert {\n",
              "      background-color: #E8F0FE;\n",
              "      border: none;\n",
              "      border-radius: 50%;\n",
              "      cursor: pointer;\n",
              "      display: none;\n",
              "      fill: #1967D2;\n",
              "      height: 32px;\n",
              "      padding: 0 0 0 0;\n",
              "      width: 32px;\n",
              "    }\n",
              "\n",
              "    .colab-df-convert:hover {\n",
              "      background-color: #E2EBFA;\n",
              "      box-shadow: 0px 1px 2px rgba(60, 64, 67, 0.3), 0px 1px 3px 1px rgba(60, 64, 67, 0.15);\n",
              "      fill: #174EA6;\n",
              "    }\n",
              "\n",
              "    [theme=dark] .colab-df-convert {\n",
              "      background-color: #3B4455;\n",
              "      fill: #D2E3FC;\n",
              "    }\n",
              "\n",
              "    [theme=dark] .colab-df-convert:hover {\n",
              "      background-color: #434B5C;\n",
              "      box-shadow: 0px 1px 3px 1px rgba(0, 0, 0, 0.15);\n",
              "      filter: drop-shadow(0px 1px 2px rgba(0, 0, 0, 0.3));\n",
              "      fill: #FFFFFF;\n",
              "    }\n",
              "  </style>\n",
              "\n",
              "      <script>\n",
              "        const buttonEl =\n",
              "          document.querySelector('#df-6afe7fdf-766e-41fe-a2d3-132bb2f04d1c button.colab-df-convert');\n",
              "        buttonEl.style.display =\n",
              "          google.colab.kernel.accessAllowed ? 'block' : 'none';\n",
              "\n",
              "        async function convertToInteractive(key) {\n",
              "          const element = document.querySelector('#df-6afe7fdf-766e-41fe-a2d3-132bb2f04d1c');\n",
              "          const dataTable =\n",
              "            await google.colab.kernel.invokeFunction('convertToInteractive',\n",
              "                                                     [key], {});\n",
              "          if (!dataTable) return;\n",
              "\n",
              "          const docLinkHtml = 'Like what you see? Visit the ' +\n",
              "            '<a target=\"_blank\" href=https://colab.research.google.com/notebooks/data_table.ipynb>data table notebook</a>'\n",
              "            + ' to learn more about interactive tables.';\n",
              "          element.innerHTML = '';\n",
              "          dataTable['output_type'] = 'display_data';\n",
              "          await google.colab.output.renderOutput(dataTable, element);\n",
              "          const docLink = document.createElement('div');\n",
              "          docLink.innerHTML = docLinkHtml;\n",
              "          element.appendChild(docLink);\n",
              "        }\n",
              "      </script>\n",
              "    </div>\n",
              "  </div>\n",
              "  "
            ]
          },
          "metadata": {},
          "execution_count": 86
        }
      ]
    },
    {
      "cell_type": "code",
      "source": [
        "#list(df.columns)\n",
        "X = X.drop(labels=[\n",
        "    \"Unnamed: 0\",\n",
        "    \"Unnamed: 0.1\",\n",
        "    \"financial_institution\",\n",
        "    \"origination_date\",\n",
        "    \"first_payment_date\",\n",
        "    \"loan_id\" #remove cos it isn't a real number\n",
        "    #leave source and loan_purpose can do one_hot encoding\n",
        "],axis=1)\n",
        "\n",
        "list(X.columns)"
      ],
      "metadata": {
        "id": "_tMIlnfJ2sqX",
        "outputId": "d11b632e-52c5-4850-bfd4-77d395bc3e59",
        "colab": {
          "base_uri": "https://localhost:8080/"
        }
      },
      "id": "_tMIlnfJ2sqX",
      "execution_count": 87,
      "outputs": [
        {
          "output_type": "execute_result",
          "data": {
            "text/plain": [
              "['source',\n",
              " 'interest_rate',\n",
              " 'unpaid_principal_bal',\n",
              " 'loan_term',\n",
              " 'loan_to_value',\n",
              " 'number_of_borrowers',\n",
              " 'debt_to_income_ratio',\n",
              " 'borrower_credit_score',\n",
              " 'loan_purpose',\n",
              " 'insurance_percent',\n",
              " 'm1',\n",
              " 'm2',\n",
              " 'm3',\n",
              " 'm4',\n",
              " 'm5',\n",
              " 'm6',\n",
              " 'm7',\n",
              " 'm8',\n",
              " 'm9',\n",
              " 'm10',\n",
              " 'm11',\n",
              " 'm12',\n",
              " 'months_until_first_payment',\n",
              " 'has_insurance']"
            ]
          },
          "metadata": {},
          "execution_count": 87
        }
      ]
    },
    {
      "cell_type": "code",
      "execution_count": 88,
      "id": "efa6658b",
      "metadata": {
        "id": "efa6658b",
        "outputId": "0f020566-60ac-4194-ea7a-cc999982a671",
        "colab": {
          "base_uri": "https://localhost:8080/",
          "height": 488
        }
      },
      "outputs": [
        {
          "output_type": "execute_result",
          "data": {
            "text/plain": [
              "        interest_rate  unpaid_principal_bal  loan_term  loan_to_value  \\\n",
              "0               4.250                214000         12             95   \n",
              "1               4.875                144000         12             72   \n",
              "2               3.250                366000          6             49   \n",
              "3               4.750                135000         12             46   \n",
              "4               4.750                124000         12             80   \n",
              "...               ...                   ...        ...            ...   \n",
              "116053          4.125                153000         12             88   \n",
              "116054          3.000                150000          4             35   \n",
              "116055          3.875                166000         12             58   \n",
              "116056          4.250                169000         12             74   \n",
              "116057          3.375                252000          6             29   \n",
              "\n",
              "        number_of_borrowers  debt_to_income_ratio  borrower_credit_score  \\\n",
              "0                         1                  22.0                  694.0   \n",
              "1                         1                  44.0                  697.0   \n",
              "2                         1                  33.0                  780.0   \n",
              "3                         2                  44.0                  633.0   \n",
              "4                         1                  43.0                  681.0   \n",
              "...                     ...                   ...                    ...   \n",
              "116053                    2                  22.0                  801.0   \n",
              "116054                    1                  37.0                  796.0   \n",
              "116055                    2                  49.0                  724.0   \n",
              "116056                    2                  13.0                  755.0   \n",
              "116057                    2                  40.0                  770.0   \n",
              "\n",
              "        insurance_percent  m1  m2  ...  m11  m12  months_until_first_payment  \\\n",
              "0                    30.0   0   0  ...    0    0                           2   \n",
              "1                     0.0   0   0  ...    1    0                           2   \n",
              "2                     0.0   0   0  ...    0    0                           2   \n",
              "3                     0.0   0   0  ...    1    1                           2   \n",
              "4                     0.0   0   1  ...   10   11                           2   \n",
              "...                   ...  ..  ..  ...  ...  ...                         ...   \n",
              "116053               25.0   0   0  ...    0    0                           2   \n",
              "116054                0.0   0   0  ...    0    0                           2   \n",
              "116055                0.0   0   0  ...    0    0                           2   \n",
              "116056                0.0   0   0  ...    0    0                           2   \n",
              "116057                0.0   0   0  ...    0    0                           2   \n",
              "\n",
              "        has_insurance  source_X  source_Y  source_Z  loan_purpose_A23  \\\n",
              "0                   1         0         0         1                 0   \n",
              "1                   0         0         1         0                 0   \n",
              "2                   0         0         0         1                 0   \n",
              "3                   0         1         0         0                 0   \n",
              "4                   0         1         0         0                 0   \n",
              "...               ...       ...       ...       ...               ...   \n",
              "116053              1         0         1         0                 1   \n",
              "116054              0         0         0         1                 0   \n",
              "116055              0         1         0         0                 0   \n",
              "116056              0         1         0         0                 1   \n",
              "116057              0         0         0         1                 1   \n",
              "\n",
              "        loan_purpose_B12  loan_purpose_C86  \n",
              "0                      0                 1  \n",
              "1                      1                 0  \n",
              "2                      1                 0  \n",
              "3                      1                 0  \n",
              "4                      0                 1  \n",
              "...                  ...               ...  \n",
              "116053                 0                 0  \n",
              "116054                 1                 0  \n",
              "116055                 1                 0  \n",
              "116056                 0                 0  \n",
              "116057                 0                 0  \n",
              "\n",
              "[116058 rows x 28 columns]"
            ],
            "text/html": [
              "\n",
              "  <div id=\"df-ab12152f-8d49-479a-abbf-3d3417d5d4d1\">\n",
              "    <div class=\"colab-df-container\">\n",
              "      <div>\n",
              "<style scoped>\n",
              "    .dataframe tbody tr th:only-of-type {\n",
              "        vertical-align: middle;\n",
              "    }\n",
              "\n",
              "    .dataframe tbody tr th {\n",
              "        vertical-align: top;\n",
              "    }\n",
              "\n",
              "    .dataframe thead th {\n",
              "        text-align: right;\n",
              "    }\n",
              "</style>\n",
              "<table border=\"1\" class=\"dataframe\">\n",
              "  <thead>\n",
              "    <tr style=\"text-align: right;\">\n",
              "      <th></th>\n",
              "      <th>interest_rate</th>\n",
              "      <th>unpaid_principal_bal</th>\n",
              "      <th>loan_term</th>\n",
              "      <th>loan_to_value</th>\n",
              "      <th>number_of_borrowers</th>\n",
              "      <th>debt_to_income_ratio</th>\n",
              "      <th>borrower_credit_score</th>\n",
              "      <th>insurance_percent</th>\n",
              "      <th>m1</th>\n",
              "      <th>m2</th>\n",
              "      <th>...</th>\n",
              "      <th>m11</th>\n",
              "      <th>m12</th>\n",
              "      <th>months_until_first_payment</th>\n",
              "      <th>has_insurance</th>\n",
              "      <th>source_X</th>\n",
              "      <th>source_Y</th>\n",
              "      <th>source_Z</th>\n",
              "      <th>loan_purpose_A23</th>\n",
              "      <th>loan_purpose_B12</th>\n",
              "      <th>loan_purpose_C86</th>\n",
              "    </tr>\n",
              "  </thead>\n",
              "  <tbody>\n",
              "    <tr>\n",
              "      <th>0</th>\n",
              "      <td>4.250</td>\n",
              "      <td>214000</td>\n",
              "      <td>12</td>\n",
              "      <td>95</td>\n",
              "      <td>1</td>\n",
              "      <td>22.0</td>\n",
              "      <td>694.0</td>\n",
              "      <td>30.0</td>\n",
              "      <td>0</td>\n",
              "      <td>0</td>\n",
              "      <td>...</td>\n",
              "      <td>0</td>\n",
              "      <td>0</td>\n",
              "      <td>2</td>\n",
              "      <td>1</td>\n",
              "      <td>0</td>\n",
              "      <td>0</td>\n",
              "      <td>1</td>\n",
              "      <td>0</td>\n",
              "      <td>0</td>\n",
              "      <td>1</td>\n",
              "    </tr>\n",
              "    <tr>\n",
              "      <th>1</th>\n",
              "      <td>4.875</td>\n",
              "      <td>144000</td>\n",
              "      <td>12</td>\n",
              "      <td>72</td>\n",
              "      <td>1</td>\n",
              "      <td>44.0</td>\n",
              "      <td>697.0</td>\n",
              "      <td>0.0</td>\n",
              "      <td>0</td>\n",
              "      <td>0</td>\n",
              "      <td>...</td>\n",
              "      <td>1</td>\n",
              "      <td>0</td>\n",
              "      <td>2</td>\n",
              "      <td>0</td>\n",
              "      <td>0</td>\n",
              "      <td>1</td>\n",
              "      <td>0</td>\n",
              "      <td>0</td>\n",
              "      <td>1</td>\n",
              "      <td>0</td>\n",
              "    </tr>\n",
              "    <tr>\n",
              "      <th>2</th>\n",
              "      <td>3.250</td>\n",
              "      <td>366000</td>\n",
              "      <td>6</td>\n",
              "      <td>49</td>\n",
              "      <td>1</td>\n",
              "      <td>33.0</td>\n",
              "      <td>780.0</td>\n",
              "      <td>0.0</td>\n",
              "      <td>0</td>\n",
              "      <td>0</td>\n",
              "      <td>...</td>\n",
              "      <td>0</td>\n",
              "      <td>0</td>\n",
              "      <td>2</td>\n",
              "      <td>0</td>\n",
              "      <td>0</td>\n",
              "      <td>0</td>\n",
              "      <td>1</td>\n",
              "      <td>0</td>\n",
              "      <td>1</td>\n",
              "      <td>0</td>\n",
              "    </tr>\n",
              "    <tr>\n",
              "      <th>3</th>\n",
              "      <td>4.750</td>\n",
              "      <td>135000</td>\n",
              "      <td>12</td>\n",
              "      <td>46</td>\n",
              "      <td>2</td>\n",
              "      <td>44.0</td>\n",
              "      <td>633.0</td>\n",
              "      <td>0.0</td>\n",
              "      <td>0</td>\n",
              "      <td>0</td>\n",
              "      <td>...</td>\n",
              "      <td>1</td>\n",
              "      <td>1</td>\n",
              "      <td>2</td>\n",
              "      <td>0</td>\n",
              "      <td>1</td>\n",
              "      <td>0</td>\n",
              "      <td>0</td>\n",
              "      <td>0</td>\n",
              "      <td>1</td>\n",
              "      <td>0</td>\n",
              "    </tr>\n",
              "    <tr>\n",
              "      <th>4</th>\n",
              "      <td>4.750</td>\n",
              "      <td>124000</td>\n",
              "      <td>12</td>\n",
              "      <td>80</td>\n",
              "      <td>1</td>\n",
              "      <td>43.0</td>\n",
              "      <td>681.0</td>\n",
              "      <td>0.0</td>\n",
              "      <td>0</td>\n",
              "      <td>1</td>\n",
              "      <td>...</td>\n",
              "      <td>10</td>\n",
              "      <td>11</td>\n",
              "      <td>2</td>\n",
              "      <td>0</td>\n",
              "      <td>1</td>\n",
              "      <td>0</td>\n",
              "      <td>0</td>\n",
              "      <td>0</td>\n",
              "      <td>0</td>\n",
              "      <td>1</td>\n",
              "    </tr>\n",
              "    <tr>\n",
              "      <th>...</th>\n",
              "      <td>...</td>\n",
              "      <td>...</td>\n",
              "      <td>...</td>\n",
              "      <td>...</td>\n",
              "      <td>...</td>\n",
              "      <td>...</td>\n",
              "      <td>...</td>\n",
              "      <td>...</td>\n",
              "      <td>...</td>\n",
              "      <td>...</td>\n",
              "      <td>...</td>\n",
              "      <td>...</td>\n",
              "      <td>...</td>\n",
              "      <td>...</td>\n",
              "      <td>...</td>\n",
              "      <td>...</td>\n",
              "      <td>...</td>\n",
              "      <td>...</td>\n",
              "      <td>...</td>\n",
              "      <td>...</td>\n",
              "      <td>...</td>\n",
              "    </tr>\n",
              "    <tr>\n",
              "      <th>116053</th>\n",
              "      <td>4.125</td>\n",
              "      <td>153000</td>\n",
              "      <td>12</td>\n",
              "      <td>88</td>\n",
              "      <td>2</td>\n",
              "      <td>22.0</td>\n",
              "      <td>801.0</td>\n",
              "      <td>25.0</td>\n",
              "      <td>0</td>\n",
              "      <td>0</td>\n",
              "      <td>...</td>\n",
              "      <td>0</td>\n",
              "      <td>0</td>\n",
              "      <td>2</td>\n",
              "      <td>1</td>\n",
              "      <td>0</td>\n",
              "      <td>1</td>\n",
              "      <td>0</td>\n",
              "      <td>1</td>\n",
              "      <td>0</td>\n",
              "      <td>0</td>\n",
              "    </tr>\n",
              "    <tr>\n",
              "      <th>116054</th>\n",
              "      <td>3.000</td>\n",
              "      <td>150000</td>\n",
              "      <td>4</td>\n",
              "      <td>35</td>\n",
              "      <td>1</td>\n",
              "      <td>37.0</td>\n",
              "      <td>796.0</td>\n",
              "      <td>0.0</td>\n",
              "      <td>0</td>\n",
              "      <td>0</td>\n",
              "      <td>...</td>\n",
              "      <td>0</td>\n",
              "      <td>0</td>\n",
              "      <td>2</td>\n",
              "      <td>0</td>\n",
              "      <td>0</td>\n",
              "      <td>0</td>\n",
              "      <td>1</td>\n",
              "      <td>0</td>\n",
              "      <td>1</td>\n",
              "      <td>0</td>\n",
              "    </tr>\n",
              "    <tr>\n",
              "      <th>116055</th>\n",
              "      <td>3.875</td>\n",
              "      <td>166000</td>\n",
              "      <td>12</td>\n",
              "      <td>58</td>\n",
              "      <td>2</td>\n",
              "      <td>49.0</td>\n",
              "      <td>724.0</td>\n",
              "      <td>0.0</td>\n",
              "      <td>0</td>\n",
              "      <td>0</td>\n",
              "      <td>...</td>\n",
              "      <td>0</td>\n",
              "      <td>0</td>\n",
              "      <td>2</td>\n",
              "      <td>0</td>\n",
              "      <td>1</td>\n",
              "      <td>0</td>\n",
              "      <td>0</td>\n",
              "      <td>0</td>\n",
              "      <td>1</td>\n",
              "      <td>0</td>\n",
              "    </tr>\n",
              "    <tr>\n",
              "      <th>116056</th>\n",
              "      <td>4.250</td>\n",
              "      <td>169000</td>\n",
              "      <td>12</td>\n",
              "      <td>74</td>\n",
              "      <td>2</td>\n",
              "      <td>13.0</td>\n",
              "      <td>755.0</td>\n",
              "      <td>0.0</td>\n",
              "      <td>0</td>\n",
              "      <td>0</td>\n",
              "      <td>...</td>\n",
              "      <td>0</td>\n",
              "      <td>0</td>\n",
              "      <td>2</td>\n",
              "      <td>0</td>\n",
              "      <td>1</td>\n",
              "      <td>0</td>\n",
              "      <td>0</td>\n",
              "      <td>1</td>\n",
              "      <td>0</td>\n",
              "      <td>0</td>\n",
              "    </tr>\n",
              "    <tr>\n",
              "      <th>116057</th>\n",
              "      <td>3.375</td>\n",
              "      <td>252000</td>\n",
              "      <td>6</td>\n",
              "      <td>29</td>\n",
              "      <td>2</td>\n",
              "      <td>40.0</td>\n",
              "      <td>770.0</td>\n",
              "      <td>0.0</td>\n",
              "      <td>0</td>\n",
              "      <td>0</td>\n",
              "      <td>...</td>\n",
              "      <td>0</td>\n",
              "      <td>0</td>\n",
              "      <td>2</td>\n",
              "      <td>0</td>\n",
              "      <td>0</td>\n",
              "      <td>0</td>\n",
              "      <td>1</td>\n",
              "      <td>1</td>\n",
              "      <td>0</td>\n",
              "      <td>0</td>\n",
              "    </tr>\n",
              "  </tbody>\n",
              "</table>\n",
              "<p>116058 rows × 28 columns</p>\n",
              "</div>\n",
              "      <button class=\"colab-df-convert\" onclick=\"convertToInteractive('df-ab12152f-8d49-479a-abbf-3d3417d5d4d1')\"\n",
              "              title=\"Convert this dataframe to an interactive table.\"\n",
              "              style=\"display:none;\">\n",
              "        \n",
              "  <svg xmlns=\"http://www.w3.org/2000/svg\" height=\"24px\"viewBox=\"0 0 24 24\"\n",
              "       width=\"24px\">\n",
              "    <path d=\"M0 0h24v24H0V0z\" fill=\"none\"/>\n",
              "    <path d=\"M18.56 5.44l.94 2.06.94-2.06 2.06-.94-2.06-.94-.94-2.06-.94 2.06-2.06.94zm-11 1L8.5 8.5l.94-2.06 2.06-.94-2.06-.94L8.5 2.5l-.94 2.06-2.06.94zm10 10l.94 2.06.94-2.06 2.06-.94-2.06-.94-.94-2.06-.94 2.06-2.06.94z\"/><path d=\"M17.41 7.96l-1.37-1.37c-.4-.4-.92-.59-1.43-.59-.52 0-1.04.2-1.43.59L10.3 9.45l-7.72 7.72c-.78.78-.78 2.05 0 2.83L4 21.41c.39.39.9.59 1.41.59.51 0 1.02-.2 1.41-.59l7.78-7.78 2.81-2.81c.8-.78.8-2.07 0-2.86zM5.41 20L4 18.59l7.72-7.72 1.47 1.35L5.41 20z\"/>\n",
              "  </svg>\n",
              "      </button>\n",
              "      \n",
              "  <style>\n",
              "    .colab-df-container {\n",
              "      display:flex;\n",
              "      flex-wrap:wrap;\n",
              "      gap: 12px;\n",
              "    }\n",
              "\n",
              "    .colab-df-convert {\n",
              "      background-color: #E8F0FE;\n",
              "      border: none;\n",
              "      border-radius: 50%;\n",
              "      cursor: pointer;\n",
              "      display: none;\n",
              "      fill: #1967D2;\n",
              "      height: 32px;\n",
              "      padding: 0 0 0 0;\n",
              "      width: 32px;\n",
              "    }\n",
              "\n",
              "    .colab-df-convert:hover {\n",
              "      background-color: #E2EBFA;\n",
              "      box-shadow: 0px 1px 2px rgba(60, 64, 67, 0.3), 0px 1px 3px 1px rgba(60, 64, 67, 0.15);\n",
              "      fill: #174EA6;\n",
              "    }\n",
              "\n",
              "    [theme=dark] .colab-df-convert {\n",
              "      background-color: #3B4455;\n",
              "      fill: #D2E3FC;\n",
              "    }\n",
              "\n",
              "    [theme=dark] .colab-df-convert:hover {\n",
              "      background-color: #434B5C;\n",
              "      box-shadow: 0px 1px 3px 1px rgba(0, 0, 0, 0.15);\n",
              "      filter: drop-shadow(0px 1px 2px rgba(0, 0, 0, 0.3));\n",
              "      fill: #FFFFFF;\n",
              "    }\n",
              "  </style>\n",
              "\n",
              "      <script>\n",
              "        const buttonEl =\n",
              "          document.querySelector('#df-ab12152f-8d49-479a-abbf-3d3417d5d4d1 button.colab-df-convert');\n",
              "        buttonEl.style.display =\n",
              "          google.colab.kernel.accessAllowed ? 'block' : 'none';\n",
              "\n",
              "        async function convertToInteractive(key) {\n",
              "          const element = document.querySelector('#df-ab12152f-8d49-479a-abbf-3d3417d5d4d1');\n",
              "          const dataTable =\n",
              "            await google.colab.kernel.invokeFunction('convertToInteractive',\n",
              "                                                     [key], {});\n",
              "          if (!dataTable) return;\n",
              "\n",
              "          const docLinkHtml = 'Like what you see? Visit the ' +\n",
              "            '<a target=\"_blank\" href=https://colab.research.google.com/notebooks/data_table.ipynb>data table notebook</a>'\n",
              "            + ' to learn more about interactive tables.';\n",
              "          element.innerHTML = '';\n",
              "          dataTable['output_type'] = 'display_data';\n",
              "          await google.colab.output.renderOutput(dataTable, element);\n",
              "          const docLink = document.createElement('div');\n",
              "          docLink.innerHTML = docLinkHtml;\n",
              "          element.appendChild(docLink);\n",
              "        }\n",
              "      </script>\n",
              "    </div>\n",
              "  </div>\n",
              "  "
            ]
          },
          "metadata": {},
          "execution_count": 88
        }
      ],
      "source": [
        "# apply one-hot encoding to nominal variables\n",
        "X = pd.get_dummies(data=X, columns=['source', 'loan_purpose']) #vector full of zeroes except in category that it is which is 1\n",
        "X"
      ]
    },
    {
      "cell_type": "code",
      "execution_count": 89,
      "id": "f6f7d1f8",
      "metadata": {
        "id": "f6f7d1f8"
      },
      "outputs": [],
      "source": [
        "# apply normalisation using sklearn\n",
        "from sklearn.preprocessing import MinMaxScaler\n",
        "normalisation = MinMaxScaler()\n",
        "X = normalisation.fit_transform(X)"
      ]
    },
    {
      "cell_type": "markdown",
      "id": "f3f961b1",
      "metadata": {
        "id": "f3f961b1"
      },
      "source": [
        "## The Problem\n",
        "\n",
        "__Loan default prediction__ is one of the most critical and crucial problems faced by financial institutions and organizations as it has a noteworthy effect on the profitability of these institutions. In recent years, there is a tremendous increase in the volume of _non–performing_ loans which results in a jeopardizing effect on the growth of these institutions. \n",
        "\n",
        "Therefore, to maintain a healthy portfolio, banks put stringent monitoring and evaluation measures in place to ensure the timely repayment of loans by borrowers. Despite these measures, a major proportion of loans become delinquent. _Delinquency_ occurs when a borrower misses a payment against his/her loan.\n",
        "\n",
        "Given the information like mortgage details, borrowers-related details, and payment details, your objective is to build a system that can predict the defaulter status of loans for the next month given the defaulter status for the previous 12 months (in the number of months).\n",
        "\n"
      ]
    },
    {
      "cell_type": "markdown",
      "id": "f73320e4",
      "metadata": {
        "id": "f73320e4"
      },
      "source": [
        "# Part 4 - Model Training and Evaluation\n",
        "\n",
        "Now, it's time to do some machine learning.\n",
        "You have your final training and testing data, and you're ready to start training different some machine learning models to model the relationships between the features and labels."
      ]
    },
    {
      "cell_type": "markdown",
      "id": "94ce3a3d",
      "metadata": {
        "id": "94ce3a3d"
      },
      "source": [
        "## Train Test Split\n",
        "\n",
        "The final thing required before training a machine learning model on our data is to split the data into different sets.\n",
        "training and testing for model training and evaluation. \n",
        "\n",
        "You can learn more about why we perform train and test splitting [here](https://scikit-learn.org/stable/modules/generated/sklearn.model_selection.train_test_split.html)\n"
      ]
    },
    {
      "cell_type": "markdown",
      "source": [],
      "metadata": {
        "id": "8KbEWCorF-co"
      },
      "id": "8KbEWCorF-co"
    },
    {
      "cell_type": "code",
      "execution_count": 90,
      "id": "c0269597",
      "metadata": {
        "id": "c0269597"
      },
      "outputs": [],
      "source": [
        "from sklearn.model_selection import train_test_split\n",
        "X_train, X_test, y_train, y_test = train_test_split( #train data to fit algorithms ie what inputs and outputs should look like\n",
        "                                                    #test data is completely unseen for final decision\n",
        "    X,\n",
        "    y,\n",
        "    test_size=0.3, \n",
        "    stratify=y\n",
        ") #stratify equal proportion of defaulters\n",
        "# why split data?\n",
        "# we need to test the model; this is how wel it does on totally unseen data; \n",
        "# cannot report performance of algorithm on same data it was trained to perform well on -- overfitting\n",
        "\n",
        "X_val, X_test, y_val, y_test = train_test_split( #val data to choose between diff algorithms; still not sure what the point of this was- unused\n",
        "    X_test,\n",
        "    y_test,\n",
        "    test_size=0.5, \n",
        "    #stratify=y_test\n",
        ")\n",
        "# stratify (to deal with target data imbalance); the proportion of examples in the test set with one label is the same proportion as are in the population\n",
        "# validation data set- use val set (not data train), to compare between different models\n",
        "# eg 1 ML algorithm, train on training data,  evaluate performance on val set\n",
        "# evaluate performace of diff models on val set then choose best\n",
        "# but if choosing model based on how well it does on val set, ie designed to do well on val set--\n",
        "# that val set has been informing which model to use ie no longer unseen data--\n",
        "# Thats why we have the test set seperate. totally unseen data"
      ]
    },
    {
      "cell_type": "markdown",
      "id": "b1dadc4d",
      "metadata": {
        "id": "b1dadc4d"
      },
      "source": [
        "Alright, so we are getting closer to training our mdodel. This notebook was just focussed around preparing the data before we actually train the model. We did Feature Selection, Feature Encoding and then Feature Scaling. It is important to notice the flow of the preprocessing steps. It should most likely happen in this manner if not always."
      ]
    },
    {
      "cell_type": "markdown",
      "id": "c3f66a7f",
      "metadata": {
        "id": "c3f66a7f"
      },
      "source": [
        "### Model Training \n",
        "\n",
        "We will be training different models and see which works best. \n",
        "1. Logistic Regression : For this model, how to prepare the data w.r.t outliers, feature scaling and feature encoding ? \n",
        "2. Decision Tree : How to prepare the data for this model ? Is it robust to outliers ? \n",
        "3. Random Forest : [Read More Here](https://towardsdatascience.com/understanding-random-forest-58381e0602d2)\n",
        "4. SVM : [Read More Here](https://towardsdatascience.com/https-medium-com-pupalerushikesh-svm-f4b42800e989#:~:text=SVM%20or%20Support%20Vector%20Machine,separates%20the%20data%20into%20classes.)\n",
        "5. Boosting Models: GradientBoostingClassifier(), ExtraTreesClassifier()"
      ]
    },
    {
      "cell_type": "code",
      "execution_count": 91,
      "id": "76cab4ee",
      "metadata": {
        "id": "76cab4ee"
      },
      "outputs": [],
      "source": [
        "from sklearn.ensemble import RandomForestClassifier #easiest one to understand\n",
        "from sklearn.linear_model import LogisticRegression #sklearn- scikit learn; sklearn.[model] eg sklearn ensemble models; sklearn neighbours models\n",
        "from sklearn.svm import SVC #support vector classifier\n",
        "from sklearn.neighbors import KNeighborsClassifier\n",
        "from sklearn.ensemble import GradientBoostingClassifier, ExtraTreesClassifier\n",
        "from sklearn.metrics import classification_report, accuracy_score, precision_score, recall_score\n",
        "#model gets shown features (train set), passes through function to get prediction, \n",
        "#compares with true label to measure how well or bad its doing, uses that info to update thte parameters of the model\n",
        "#does this many times to gradually improve the algorithm (gradient based optimisation)"
      ]
    },
    {
      "cell_type": "code",
      "source": [
        "#run for each of the models # Train Logistic Regression Model\n",
        "model = RandomForestClassifier()\n",
        "model.fit(X_train,y_train)\n",
        "model.fit(X_val, y_val) #increases accuracy from 0.99615 to 0.99673\n",
        "val_predictions = model.predict(X_val)\n",
        "len(val_predictions)\n",
        "model.score(X_test, y_test)\n",
        "\n"
      ],
      "metadata": {
        "colab": {
          "base_uri": "https://localhost:8080/"
        },
        "id": "8_bPqmydqYm9",
        "outputId": "961d1d17-a343-490e-ffbe-afca9296ad62"
      },
      "id": "8_bPqmydqYm9",
      "execution_count": 92,
      "outputs": [
        {
          "output_type": "execute_result",
          "data": {
            "text/plain": [
              "0.9960939743810673"
            ]
          },
          "metadata": {},
          "execution_count": 92
        }
      ]
    },
    {
      "cell_type": "code",
      "source": [
        "model = RandomForestClassifier()\n",
        "model.fit(X_train,y_train)\n",
        "model.fit(X_val, y_val) #increases accuracy from 0.99615 to 0.99673\n",
        "pred = model.predict(X_test)\n",
        "accuracy_score(y_test, pred)"
      ],
      "metadata": {
        "colab": {
          "base_uri": "https://localhost:8080/"
        },
        "id": "OEpFN98qiWwE",
        "outputId": "9320f3d9-38b0-4842-9fd1-8fed72fca2e5"
      },
      "id": "OEpFN98qiWwE",
      "execution_count": 93,
      "outputs": [
        {
          "output_type": "execute_result",
          "data": {
            "text/plain": [
              "0.9961514159342869"
            ]
          },
          "metadata": {},
          "execution_count": 93
        }
      ]
    },
    {
      "cell_type": "code",
      "execution_count": 94,
      "id": "8ba64e99",
      "metadata": {
        "id": "8ba64e99"
      },
      "outputs": [],
      "source": [
        "\n",
        "\n",
        "# def train_model(model):\n",
        "#   return model.fit(X_train, y_train) # this is just how to use eg see sklearn Logistic Regression documentation\n",
        "# # all of the models have the same interface and are easy to use\n",
        "# #show model the training set (mathematical function): \n",
        "# #pairs of features and examples and allow model to run some internal process where it optimizes to better map the features to the labels\n",
        "\n",
        "# def select_best(model_list):\n",
        "  \n",
        "#   best_score = 0\n",
        "#   best_model = None\n",
        "\n",
        "#   for model in model_list:\n",
        "#     print(model)\n",
        "#     trained_model = train_model(model) #model.fit using training data\n",
        "#     score = trained_model.score(X_val, y_val) #model performance\n",
        "#     if score > best_score:\n",
        "#       best_score = score\n",
        "#       best_model = model\n",
        "#   return best_model, best_score\n",
        "\n",
        "\n",
        "model_list = [\n",
        "    RandomForestClassifier(),\n",
        "    GradientBoostingClassifier(),\n",
        "    ExtraTreesClassifier(),\n",
        "    KNeighborsClassifier(),\n",
        "    LogisticRegression(), \n",
        "    SVC()\n",
        "]\n",
        "\n",
        "# select_best(model_list)"
      ]
    },
    {
      "cell_type": "markdown",
      "id": "b8dcf348",
      "metadata": {
        "id": "b8dcf348"
      },
      "source": [
        "### Model Evaluation\n",
        "\n",
        "These metrics help us understand which model works better over others. You can learn more about the metrics here: [Link](https://neptune.ai/blog/performance-metrics-in-machine-learning-complete-guide#:~:text=They're%20used%20to%20train,t%20need%20to%20be%20differentiable.)\n",
        "1. Accuracy : Is Accuracy as a metric relavant here ?\n",
        "2. Precision : [Read More](https://developers.google.com/machine-learning/crash-course/classification/precision-and-recall)\n",
        "3. Recall : [Read More](https://developers.google.com/machine-learning/crash-course/classification/precision-and-recall)\n",
        "4. Confusion Matrix"
      ]
    },
    {
      "cell_type": "code",
      "execution_count": 95,
      "id": "75464824",
      "metadata": {
        "id": "75464824",
        "colab": {
          "base_uri": "https://localhost:8080/"
        },
        "outputId": "1ef15b79-252a-445e-db59-b22f93b7ba76"
      },
      "outputs": [
        {
          "output_type": "stream",
          "name": "stdout",
          "text": [
            "The accuracy is 0.9961514159342869\n"
          ]
        }
      ],
      "source": [
        "from sklearn.metrics import accuracy_score, precision_recall_fscore_support\n",
        "pred = model.predict(X_test)\n",
        "print (f\"The accuracy is {accuracy_score(y_test, pred)}\") # accuracy score inputs are y_true, y_pred\n",
        "#data previously normalised so score() and accuracy_score() is same value according to https://askdatascience.com/777/score-vs-accuracyscore-in-sklearn"
      ]
    },
    {
      "cell_type": "code",
      "execution_count": 96,
      "id": "96c42733",
      "metadata": {
        "id": "96c42733",
        "colab": {
          "base_uri": "https://localhost:8080/",
          "height": 353
        },
        "outputId": "222eb39e-4f38-4efe-9ae4-7dc32ad782a7"
      },
      "outputs": [
        {
          "output_type": "stream",
          "name": "stderr",
          "text": [
            "/usr/local/lib/python3.8/dist-packages/sklearn/utils/deprecation.py:87: FutureWarning: Function plot_confusion_matrix is deprecated; Function `plot_confusion_matrix` is deprecated in 1.0 and will be removed in 1.2. Use one of the class methods: ConfusionMatrixDisplay.from_predictions or ConfusionMatrixDisplay.from_estimator.\n",
            "  warnings.warn(msg, category=FutureWarning)\n"
          ]
        },
        {
          "output_type": "execute_result",
          "data": {
            "text/plain": [
              "<sklearn.metrics._plot.confusion_matrix.ConfusionMatrixDisplay at 0x7fe68e94a130>"
            ]
          },
          "metadata": {},
          "execution_count": 96
        },
        {
          "output_type": "display_data",
          "data": {
            "text/plain": [
              "<Figure size 432x288 with 2 Axes>"
            ],
            "image/png": "[encoded data removed]"
          },
          "metadata": {
            "needs_background": "light"
          }
        }
      ],
      "source": [
        "from sklearn.metrics import plot_confusion_matrix\n",
        "\n",
        "#from sklearn.metrics import confusion_matrix , ConfusionMatrixDisplay\n",
        "# cm = confusion_matrix(y_train, model.predict(X_train))\n",
        "# ConfusionMatrixDisplay(confusion_matrix=cm).plot() #same method, but figured out myself!!\n",
        "\n",
        "plot_confusion_matrix(model, X_train, y_train)\n",
        "# (0,0) is correct prediction true negative\n",
        "# (1,1) is true positive\n",
        "# If True label == Predicted label, then model predicted correctly\n",
        "\n",
        "#(1,0) and (0,1) is false negatives and false positives repectively ie predicted T/F incorrectly, false\n",
        "# see \"operating points\"?"
      ]
    },
    {
      "cell_type": "code",
      "execution_count": 97,
      "id": "f75457bd",
      "metadata": {
        "id": "f75457bd",
        "colab": {
          "base_uri": "https://localhost:8080/"
        },
        "outputId": "0f4e583d-7690-45e5-8698-40da0255a991"
      },
      "outputs": [
        {
          "output_type": "stream",
          "name": "stdout",
          "text": [
            "Classification report:\n",
            "              precision    recall  f1-score   support\n",
            "\n",
            "           0       1.00      1.00      1.00     17376\n",
            "           1       0.32      0.94      0.48        33\n",
            "\n",
            "    accuracy                           1.00     17409\n",
            "   macro avg       0.66      0.97      0.74     17409\n",
            "weighted avg       1.00      1.00      1.00     17409\n",
            "\n"
          ]
        }
      ],
      "source": [
        "print(\"Classification report:\")\n",
        "print(classification_report(pred, y_test))"
      ]
    },
    {
      "cell_type": "code",
      "source": [
        "models_classification_reports = pd.DataFrame(columns=['model', 'accuracy','precision','recall'])\n",
        "\n",
        "model_list = [\n",
        "    RandomForestClassifier(),\n",
        "    GradientBoostingClassifier(),\n",
        "    ExtraTreesClassifier(),\n",
        "    KNeighborsClassifier(),\n",
        "    LogisticRegression(), \n",
        "    SVC()\n",
        "]\n",
        "\n",
        "best_score = 0\n",
        "best_model = None\n",
        "\n",
        "for model in model_list:\n",
        "  model.fit(X_train, y_train)\n",
        "  model.fit(X_val, y_val)\n",
        "  pred = model.predict(X_test)\n",
        "  stat_values = list(precision_recall_fscore_support(y_test, pred)) #change to list cos cant append tuple\n",
        "  s = models_classification_reports.shape[0]\n",
        "  models_classification_reports.loc[s, 'model'] = f\"{model}\"\n",
        "  models_classification_reports.loc[s, 'accuracy'] = accuracy_score(y_test, pred) #accuracy score val in accuracy col\n",
        "  models_classification_reports.loc[s, 'precision'] = stat_values[0][1] #precision val in precision col\n",
        "  #precision gets smaller as more false positives\n",
        "  models_classification_reports.loc[s, 'recall'] = stat_values[1][1] #recall val in recall col\n",
        "  #recall gets smaller as more false negatives\n",
        "  #models_classification_reports.loc[s, 'f1-score'] = stat_values[2][1] #f1-score val in f1-score col\n",
        "  if model.score(X_test, pred) > best_score:\n",
        "    best_score = model.score(X_test, pred)\n",
        "    best_model = f\"{model}\"\n",
        "    best_prsf = precision_recall_fscore_support(y_test, pred)\n",
        "\n",
        "print(models_classification_reports)\n",
        "print(\"The best model is: \", best_model)\n",
        "print(\"with a score of: \", best_score)\n",
        "print(\"and precision, recall, fscore values of: \")\n",
        "print(best_prsf)"
      ],
      "metadata": {
        "colab": {
          "base_uri": "https://localhost:8080/"
        },
        "id": "JRV8TAdL8sHI",
        "outputId": "35018213-17ca-41e1-bc24-71174feda73d"
      },
      "id": "JRV8TAdL8sHI",
      "execution_count": 116,
      "outputs": [
        {
          "output_type": "stream",
          "name": "stdout",
          "text": [
            "                          model  accuracy precision    recall\n",
            "0      RandomForestClassifier()  0.996209  0.941176  0.333333\n",
            "1  GradientBoostingClassifier()  0.994945  0.564516  0.364583\n",
            "2        ExtraTreesClassifier()  0.995922  0.820513  0.333333\n",
            "3        KNeighborsClassifier()   0.99483       1.0    0.0625\n",
            "4          LogisticRegression()  0.995003       1.0   0.09375\n",
            "5                         SVC()  0.995003       1.0   0.09375\n",
            "The best model is:  RandomForestClassifier()\n",
            "with a score of:  1.0\n",
            "and precision, recall, fscore values of: \n",
            "(array([0.99631655, 0.94117647]), array([0.99988448, 0.33333333]), array([0.99809732, 0.49230769]), array([17313,    96]))\n"
          ]
        }
      ]
    },
    {
      "cell_type": "markdown",
      "id": "8c41e406",
      "metadata": {
        "id": "8c41e406"
      },
      "source": [
        "Implement a __evaluation()__ function to evaluate the metrics mentioned above "
      ]
    },
    {
      "cell_type": "code",
      "execution_count": 99,
      "id": "0c248054",
      "metadata": {
        "id": "0c248054"
      },
      "outputs": [],
      "source": [
        "def evaluate(model, verbose=False):\n",
        "    \"\"\"\n",
        "    Set verbose = True to print accuracy, classification report and plot\n",
        "    confusion matrix\n",
        "    \"\"\"\n",
        "    metrics = {}\n",
        "    global pred\n",
        "    metrics['accuracy'] = accuracy_score(y_test, pred)\n",
        "    verbose and print (f\"The accuracy is {metrics['accuracy']}\")\n",
        "    verbose and plot_confusion_matrix(model,X_test, y_test)\n",
        "    metrics['precision'] = precision_score(y_test, pred)\n",
        "    metrics['recall'] = recall_score(y_test, pred)\n",
        "    verbose and print (f\"The classification report looks like : \\n {classification_report(pred, y_test)}\")\n",
        "    return metrics"
      ]
    },
    {
      "cell_type": "code",
      "execution_count": 100,
      "id": "e17583e5",
      "metadata": {
        "id": "e17583e5",
        "colab": {
          "base_uri": "https://localhost:8080/",
          "height": 166
        },
        "outputId": "2eaa6fd3-32e1-477a-f88e-6c44db60d57c"
      },
      "outputs": [
        {
          "output_type": "error",
          "ename": "NameError",
          "evalue": "ignored",
          "traceback": [
            "\u001b[0;31m---------------------------------------------------------------------------\u001b[0m",
            "\u001b[0;31mNameError\u001b[0m                                 Traceback (most recent call last)",
            "\u001b[0;32m<ipython-input-100-61353e8b2d5a>\u001b[0m in \u001b[0;36m<module>\u001b[0;34m\u001b[0m\n\u001b[0;32m----> 1\u001b[0;31m \u001b[0moutput\u001b[0m\u001b[0;34m\u001b[0m\u001b[0;34m\u001b[0m\u001b[0m\n\u001b[0m",
            "\u001b[0;31mNameError\u001b[0m: name 'output' is not defined"
          ]
        }
      ],
      "source": [
        "#output"
      ]
    },
    {
      "cell_type": "markdown",
      "id": "b824bf4a",
      "metadata": {
        "id": "b824bf4a"
      },
      "source": [
        "If we consider __Recall__ `GradientBoostinClassifier` is working better than other models in default configuration. Lets improve the function to automatically determine the best model"
      ]
    },
    {
      "cell_type": "code",
      "execution_count": 105,
      "id": "fb3b5edc",
      "metadata": {
        "id": "fb3b5edc"
      },
      "outputs": [],
      "source": [
        "\n",
        "def train_model(model):\n",
        "  return model.fit(X_train, y_train)\n",
        "    # TODO\n",
        "\n",
        "def select_best(model_list):\n",
        "  best_score = 0\n",
        "  best_model = None\n",
        "\n",
        "  for model in model_list:\n",
        "    print(model)\n",
        "    trained_model = train_model(model) #model.fit using training data\n",
        "    score = trained_model.score(X_val, y_val) #model performance\n",
        "    if score > best_score:\n",
        "      best_score = score\n",
        "      best_model = model\n",
        "  return best_model, best_score\n"
      ]
    },
    {
      "cell_type": "code",
      "execution_count": 106,
      "id": "5326b374",
      "metadata": {
        "id": "5326b374",
        "colab": {
          "base_uri": "https://localhost:8080/"
        },
        "outputId": "1907dafc-6b82-4cea-cc5a-76845f21cc5a"
      },
      "outputs": [
        {
          "output_type": "stream",
          "name": "stdout",
          "text": [
            "RandomForestClassifier()\n",
            "GradientBoostingClassifier()\n",
            "ExtraTreesClassifier()\n",
            "KNeighborsClassifier()\n",
            "LogisticRegression()\n",
            "SVC()\n"
          ]
        },
        {
          "output_type": "execute_result",
          "data": {
            "text/plain": [
              "(GradientBoostingClassifier(), 0.9955195588488712)"
            ]
          },
          "metadata": {},
          "execution_count": 106
        }
      ],
      "source": [
        "select_best(model_list)"
      ]
    },
    {
      "cell_type": "code",
      "execution_count": null,
      "id": "da7822d8",
      "metadata": {
        "id": "da7822d8"
      },
      "outputs": [],
      "source": [
        "#output"
      ]
    },
    {
      "cell_type": "code",
      "execution_count": null,
      "id": "5e8117cc",
      "metadata": {
        "id": "5e8117cc"
      },
      "outputs": [],
      "source": []
    },
    {
      "cell_type": "markdown",
      "id": "f2ccc6c2",
      "metadata": {
        "id": "f2ccc6c2"
      },
      "source": [
        "### Saving the Model\n",
        "\n",
        "So you're happy with your model? Now you need to save it.\n",
        "\n",
        "Once it's saved, we can share it with our team, load it back in to make predictions in some other system, or load it back in to compare with new models that you train, for example."
      ]
    },
    {
      "cell_type": "code",
      "execution_count": null,
      "id": "4caa50f2",
      "metadata": {
        "id": "4caa50f2"
      },
      "outputs": [],
      "source": []
    },
    {
      "cell_type": "markdown",
      "id": "72c99f5c",
      "metadata": {
        "id": "72c99f5c"
      },
      "source": [
        "## Key Takeaways\n",
        "- The process for model training and evaluation goes as follows\n",
        "    - Train a model on the training set\n",
        "    - Evaluate the model on the validation set\n",
        "    - Repeat for as many variations of model as you can\n",
        "    - Select the best model based on its performance on the validation set\n",
        "    - Report the performance of the model using the test set, but do not use this to make any decisions about the model!\n",
        "- Never use the test set to choose between models. The moment you pick a model based on test set performance, you're showing it the answers!\n",
        "- Both the validatoin and test set are a measure of how well the model will generalise to unseen examples\n",
        "- The validation set is used to compare different models and choose between them once they've been trained\n",
        "- The difference \n",
        "- This demo barely scratches the surface. Going forward, you could explore:\n",
        "    - the settings of the different models we've experimented with, which are known as hyperparameters\n",
        "    - other machine learning models, such as deep learning models like neural networks\n",
        "    - other machine learning libraries, like Apache Spark's MLLib\n",
        "    - other preprocessing techniques\n"
      ]
    }
  ],
  "metadata": {
    "kernelspec": {
      "display_name": "Python 3.9.5 ('base')",
      "language": "python",
      "name": "python3"
    },
    "language_info": {
      "codemirror_mode": {
        "name": "ipython",
        "version": 3
      },
      "file_extension": ".py",
      "mimetype": "text/x-python",
      "name": "python",
      "nbconvert_exporter": "python",
      "pygments_lexer": "ipython3",
      "version": "3.9.5"
    },
    "vscode": {
      "interpreter": {
        "hash": "ffef1fb3247e42ae9cf3614f3519d4998b3b95643236a5d32641564963f5a3b8"
      }
    },
    "colab": {
      "provenance": []
    }
  },
  "nbformat": 4,
  "nbformat_minor": 5
}